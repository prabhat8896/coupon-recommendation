{
 "cells": [
  {
   "cell_type": "code",
   "execution_count": 2,
   "id": "b5f53d6d",
   "metadata": {},
   "outputs": [],
   "source": [
    "import pandas as pd\n",
    "import warnings\n",
    "warnings.filterwarnings('ignore')"
   ]
  },
  {
   "cell_type": "code",
   "execution_count": null,
   "id": "dc6bfeba",
   "metadata": {},
   "outputs": [],
   "source": []
  },
  {
   "cell_type": "markdown",
   "id": "b00ecb0c",
   "metadata": {},
   "source": [
    "## Loading dataset"
   ]
  },
  {
   "cell_type": "code",
   "execution_count": 3,
   "id": "1e268dd1",
   "metadata": {},
   "outputs": [],
   "source": [
    "df=pd.read_csv(\"coupon.csv\")\n",
    "pd.set_option('display.max_columns', None)"
   ]
  },
  {
   "cell_type": "markdown",
   "id": "549962be",
   "metadata": {},
   "source": [
    "# EDA"
   ]
  },
  {
   "cell_type": "markdown",
   "id": "a42d82f1",
   "metadata": {},
   "source": [
    "## Static Analysis"
   ]
  },
  {
   "cell_type": "code",
   "execution_count": 4,
   "id": "a3eb8ca4",
   "metadata": {},
   "outputs": [
    {
     "data": {
      "text/html": [
       "<div>\n",
       "<style scoped>\n",
       "    .dataframe tbody tr th:only-of-type {\n",
       "        vertical-align: middle;\n",
       "    }\n",
       "\n",
       "    .dataframe tbody tr th {\n",
       "        vertical-align: top;\n",
       "    }\n",
       "\n",
       "    .dataframe thead th {\n",
       "        text-align: right;\n",
       "    }\n",
       "</style>\n",
       "<table border=\"1\" class=\"dataframe\">\n",
       "  <thead>\n",
       "    <tr style=\"text-align: right;\">\n",
       "      <th></th>\n",
       "      <th>destination</th>\n",
       "      <th>passanger</th>\n",
       "      <th>weather</th>\n",
       "      <th>temperature</th>\n",
       "      <th>coupon</th>\n",
       "      <th>expiration</th>\n",
       "      <th>gender</th>\n",
       "      <th>age</th>\n",
       "      <th>maritalStatus</th>\n",
       "      <th>has_children</th>\n",
       "      <th>education</th>\n",
       "      <th>occupation</th>\n",
       "      <th>income</th>\n",
       "      <th>car</th>\n",
       "      <th>Bar</th>\n",
       "      <th>CoffeeHouse</th>\n",
       "      <th>CarryAway</th>\n",
       "      <th>RestaurantLessThan20</th>\n",
       "      <th>Restaurant20To50</th>\n",
       "      <th>toCoupon_GEQ5min</th>\n",
       "      <th>toCoupon_GEQ15min</th>\n",
       "      <th>toCoupon_GEQ25min</th>\n",
       "      <th>direction_same</th>\n",
       "      <th>direction_opp</th>\n",
       "      <th>Accept(Y/N?)</th>\n",
       "    </tr>\n",
       "  </thead>\n",
       "  <tbody>\n",
       "    <tr>\n",
       "      <th>0</th>\n",
       "      <td>No Urgent Place</td>\n",
       "      <td>Alone</td>\n",
       "      <td>Sunny</td>\n",
       "      <td>55</td>\n",
       "      <td>Restaurant(&lt;20)</td>\n",
       "      <td>1d</td>\n",
       "      <td>Female</td>\n",
       "      <td>21</td>\n",
       "      <td>Unmarried partner</td>\n",
       "      <td>1</td>\n",
       "      <td>Some college - no degree</td>\n",
       "      <td>Unemployed</td>\n",
       "      <td>$37500 - $49999</td>\n",
       "      <td>NaN</td>\n",
       "      <td>never</td>\n",
       "      <td>never</td>\n",
       "      <td>NaN</td>\n",
       "      <td>4~8</td>\n",
       "      <td>1~3</td>\n",
       "      <td>1</td>\n",
       "      <td>0</td>\n",
       "      <td>0</td>\n",
       "      <td>0</td>\n",
       "      <td>1</td>\n",
       "      <td>1</td>\n",
       "    </tr>\n",
       "    <tr>\n",
       "      <th>1</th>\n",
       "      <td>No Urgent Place</td>\n",
       "      <td>Friend(s)</td>\n",
       "      <td>Sunny</td>\n",
       "      <td>80</td>\n",
       "      <td>Coffee House</td>\n",
       "      <td>2h</td>\n",
       "      <td>Female</td>\n",
       "      <td>21</td>\n",
       "      <td>Unmarried partner</td>\n",
       "      <td>1</td>\n",
       "      <td>Some college - no degree</td>\n",
       "      <td>Unemployed</td>\n",
       "      <td>$37500 - $49999</td>\n",
       "      <td>NaN</td>\n",
       "      <td>never</td>\n",
       "      <td>never</td>\n",
       "      <td>NaN</td>\n",
       "      <td>4~8</td>\n",
       "      <td>1~3</td>\n",
       "      <td>1</td>\n",
       "      <td>0</td>\n",
       "      <td>0</td>\n",
       "      <td>0</td>\n",
       "      <td>1</td>\n",
       "      <td>0</td>\n",
       "    </tr>\n",
       "    <tr>\n",
       "      <th>2</th>\n",
       "      <td>No Urgent Place</td>\n",
       "      <td>Friend(s)</td>\n",
       "      <td>Sunny</td>\n",
       "      <td>80</td>\n",
       "      <td>Carry out &amp; Take away</td>\n",
       "      <td>2h</td>\n",
       "      <td>Female</td>\n",
       "      <td>21</td>\n",
       "      <td>Unmarried partner</td>\n",
       "      <td>1</td>\n",
       "      <td>Some college - no degree</td>\n",
       "      <td>Unemployed</td>\n",
       "      <td>$37500 - $49999</td>\n",
       "      <td>NaN</td>\n",
       "      <td>never</td>\n",
       "      <td>never</td>\n",
       "      <td>NaN</td>\n",
       "      <td>4~8</td>\n",
       "      <td>1~3</td>\n",
       "      <td>1</td>\n",
       "      <td>1</td>\n",
       "      <td>0</td>\n",
       "      <td>0</td>\n",
       "      <td>1</td>\n",
       "      <td>1</td>\n",
       "    </tr>\n",
       "    <tr>\n",
       "      <th>3</th>\n",
       "      <td>No Urgent Place</td>\n",
       "      <td>Friend(s)</td>\n",
       "      <td>Sunny</td>\n",
       "      <td>80</td>\n",
       "      <td>Coffee House</td>\n",
       "      <td>2h</td>\n",
       "      <td>Female</td>\n",
       "      <td>21</td>\n",
       "      <td>Unmarried partner</td>\n",
       "      <td>1</td>\n",
       "      <td>Some college - no degree</td>\n",
       "      <td>Unemployed</td>\n",
       "      <td>$37500 - $49999</td>\n",
       "      <td>NaN</td>\n",
       "      <td>never</td>\n",
       "      <td>never</td>\n",
       "      <td>NaN</td>\n",
       "      <td>4~8</td>\n",
       "      <td>1~3</td>\n",
       "      <td>1</td>\n",
       "      <td>1</td>\n",
       "      <td>0</td>\n",
       "      <td>0</td>\n",
       "      <td>1</td>\n",
       "      <td>0</td>\n",
       "    </tr>\n",
       "    <tr>\n",
       "      <th>4</th>\n",
       "      <td>No Urgent Place</td>\n",
       "      <td>Friend(s)</td>\n",
       "      <td>Sunny</td>\n",
       "      <td>80</td>\n",
       "      <td>Coffee House</td>\n",
       "      <td>1d</td>\n",
       "      <td>Female</td>\n",
       "      <td>21</td>\n",
       "      <td>Unmarried partner</td>\n",
       "      <td>1</td>\n",
       "      <td>Some college - no degree</td>\n",
       "      <td>Unemployed</td>\n",
       "      <td>$37500 - $49999</td>\n",
       "      <td>NaN</td>\n",
       "      <td>never</td>\n",
       "      <td>never</td>\n",
       "      <td>NaN</td>\n",
       "      <td>4~8</td>\n",
       "      <td>1~3</td>\n",
       "      <td>1</td>\n",
       "      <td>1</td>\n",
       "      <td>0</td>\n",
       "      <td>0</td>\n",
       "      <td>1</td>\n",
       "      <td>0</td>\n",
       "    </tr>\n",
       "  </tbody>\n",
       "</table>\n",
       "</div>"
      ],
      "text/plain": [
       "       destination  passanger weather  temperature                 coupon  \\\n",
       "0  No Urgent Place      Alone   Sunny           55        Restaurant(<20)   \n",
       "1  No Urgent Place  Friend(s)   Sunny           80           Coffee House   \n",
       "2  No Urgent Place  Friend(s)   Sunny           80  Carry out & Take away   \n",
       "3  No Urgent Place  Friend(s)   Sunny           80           Coffee House   \n",
       "4  No Urgent Place  Friend(s)   Sunny           80           Coffee House   \n",
       "\n",
       "  expiration  gender age      maritalStatus  has_children  \\\n",
       "0         1d  Female  21  Unmarried partner             1   \n",
       "1         2h  Female  21  Unmarried partner             1   \n",
       "2         2h  Female  21  Unmarried partner             1   \n",
       "3         2h  Female  21  Unmarried partner             1   \n",
       "4         1d  Female  21  Unmarried partner             1   \n",
       "\n",
       "                  education  occupation           income  car    Bar  \\\n",
       "0  Some college - no degree  Unemployed  $37500 - $49999  NaN  never   \n",
       "1  Some college - no degree  Unemployed  $37500 - $49999  NaN  never   \n",
       "2  Some college - no degree  Unemployed  $37500 - $49999  NaN  never   \n",
       "3  Some college - no degree  Unemployed  $37500 - $49999  NaN  never   \n",
       "4  Some college - no degree  Unemployed  $37500 - $49999  NaN  never   \n",
       "\n",
       "  CoffeeHouse CarryAway RestaurantLessThan20 Restaurant20To50  \\\n",
       "0       never       NaN                  4~8              1~3   \n",
       "1       never       NaN                  4~8              1~3   \n",
       "2       never       NaN                  4~8              1~3   \n",
       "3       never       NaN                  4~8              1~3   \n",
       "4       never       NaN                  4~8              1~3   \n",
       "\n",
       "   toCoupon_GEQ5min  toCoupon_GEQ15min  toCoupon_GEQ25min  direction_same  \\\n",
       "0                 1                  0                  0               0   \n",
       "1                 1                  0                  0               0   \n",
       "2                 1                  1                  0               0   \n",
       "3                 1                  1                  0               0   \n",
       "4                 1                  1                  0               0   \n",
       "\n",
       "   direction_opp  Accept(Y/N?)  \n",
       "0              1             1  \n",
       "1              1             0  \n",
       "2              1             1  \n",
       "3              1             0  \n",
       "4              1             0  "
      ]
     },
     "execution_count": 4,
     "metadata": {},
     "output_type": "execute_result"
    }
   ],
   "source": [
    "df.head(5)"
   ]
  },
  {
   "cell_type": "code",
   "execution_count": 5,
   "id": "ee65c908",
   "metadata": {},
   "outputs": [
    {
     "data": {
      "text/html": [
       "<div>\n",
       "<style scoped>\n",
       "    .dataframe tbody tr th:only-of-type {\n",
       "        vertical-align: middle;\n",
       "    }\n",
       "\n",
       "    .dataframe tbody tr th {\n",
       "        vertical-align: top;\n",
       "    }\n",
       "\n",
       "    .dataframe thead th {\n",
       "        text-align: right;\n",
       "    }\n",
       "</style>\n",
       "<table border=\"1\" class=\"dataframe\">\n",
       "  <thead>\n",
       "    <tr style=\"text-align: right;\">\n",
       "      <th></th>\n",
       "      <th>destination</th>\n",
       "      <th>passanger</th>\n",
       "      <th>weather</th>\n",
       "      <th>temperature</th>\n",
       "      <th>coupon</th>\n",
       "      <th>expiration</th>\n",
       "      <th>gender</th>\n",
       "      <th>age</th>\n",
       "      <th>maritalStatus</th>\n",
       "      <th>has_children</th>\n",
       "      <th>education</th>\n",
       "      <th>occupation</th>\n",
       "      <th>income</th>\n",
       "      <th>car</th>\n",
       "      <th>Bar</th>\n",
       "      <th>CoffeeHouse</th>\n",
       "      <th>CarryAway</th>\n",
       "      <th>RestaurantLessThan20</th>\n",
       "      <th>Restaurant20To50</th>\n",
       "      <th>toCoupon_GEQ5min</th>\n",
       "      <th>toCoupon_GEQ15min</th>\n",
       "      <th>toCoupon_GEQ25min</th>\n",
       "      <th>direction_same</th>\n",
       "      <th>direction_opp</th>\n",
       "      <th>Accept(Y/N?)</th>\n",
       "    </tr>\n",
       "  </thead>\n",
       "  <tbody>\n",
       "    <tr>\n",
       "      <th>12679</th>\n",
       "      <td>Home</td>\n",
       "      <td>Partner</td>\n",
       "      <td>Rainy</td>\n",
       "      <td>55</td>\n",
       "      <td>Carry out &amp; Take away</td>\n",
       "      <td>1d</td>\n",
       "      <td>Male</td>\n",
       "      <td>26</td>\n",
       "      <td>Single</td>\n",
       "      <td>0</td>\n",
       "      <td>Bachelors degree</td>\n",
       "      <td>Sales &amp; Related</td>\n",
       "      <td>$75000 - $87499</td>\n",
       "      <td>NaN</td>\n",
       "      <td>never</td>\n",
       "      <td>never</td>\n",
       "      <td>1~3</td>\n",
       "      <td>4~8</td>\n",
       "      <td>1~3</td>\n",
       "      <td>1</td>\n",
       "      <td>0</td>\n",
       "      <td>0</td>\n",
       "      <td>1</td>\n",
       "      <td>0</td>\n",
       "      <td>1</td>\n",
       "    </tr>\n",
       "    <tr>\n",
       "      <th>12680</th>\n",
       "      <td>Work</td>\n",
       "      <td>Alone</td>\n",
       "      <td>Rainy</td>\n",
       "      <td>55</td>\n",
       "      <td>Carry out &amp; Take away</td>\n",
       "      <td>1d</td>\n",
       "      <td>Male</td>\n",
       "      <td>26</td>\n",
       "      <td>Single</td>\n",
       "      <td>0</td>\n",
       "      <td>Bachelors degree</td>\n",
       "      <td>Sales &amp; Related</td>\n",
       "      <td>$75000 - $87499</td>\n",
       "      <td>NaN</td>\n",
       "      <td>never</td>\n",
       "      <td>never</td>\n",
       "      <td>1~3</td>\n",
       "      <td>4~8</td>\n",
       "      <td>1~3</td>\n",
       "      <td>1</td>\n",
       "      <td>0</td>\n",
       "      <td>0</td>\n",
       "      <td>0</td>\n",
       "      <td>1</td>\n",
       "      <td>1</td>\n",
       "    </tr>\n",
       "    <tr>\n",
       "      <th>12681</th>\n",
       "      <td>Work</td>\n",
       "      <td>Alone</td>\n",
       "      <td>Snowy</td>\n",
       "      <td>30</td>\n",
       "      <td>Coffee House</td>\n",
       "      <td>1d</td>\n",
       "      <td>Male</td>\n",
       "      <td>26</td>\n",
       "      <td>Single</td>\n",
       "      <td>0</td>\n",
       "      <td>Bachelors degree</td>\n",
       "      <td>Sales &amp; Related</td>\n",
       "      <td>$75000 - $87499</td>\n",
       "      <td>NaN</td>\n",
       "      <td>never</td>\n",
       "      <td>never</td>\n",
       "      <td>1~3</td>\n",
       "      <td>4~8</td>\n",
       "      <td>1~3</td>\n",
       "      <td>1</td>\n",
       "      <td>0</td>\n",
       "      <td>0</td>\n",
       "      <td>1</td>\n",
       "      <td>0</td>\n",
       "      <td>0</td>\n",
       "    </tr>\n",
       "    <tr>\n",
       "      <th>12682</th>\n",
       "      <td>Work</td>\n",
       "      <td>Alone</td>\n",
       "      <td>Snowy</td>\n",
       "      <td>30</td>\n",
       "      <td>Bar</td>\n",
       "      <td>1d</td>\n",
       "      <td>Male</td>\n",
       "      <td>26</td>\n",
       "      <td>Single</td>\n",
       "      <td>0</td>\n",
       "      <td>Bachelors degree</td>\n",
       "      <td>Sales &amp; Related</td>\n",
       "      <td>$75000 - $87499</td>\n",
       "      <td>NaN</td>\n",
       "      <td>never</td>\n",
       "      <td>never</td>\n",
       "      <td>1~3</td>\n",
       "      <td>4~8</td>\n",
       "      <td>1~3</td>\n",
       "      <td>1</td>\n",
       "      <td>1</td>\n",
       "      <td>1</td>\n",
       "      <td>0</td>\n",
       "      <td>1</td>\n",
       "      <td>0</td>\n",
       "    </tr>\n",
       "    <tr>\n",
       "      <th>12683</th>\n",
       "      <td>Work</td>\n",
       "      <td>Alone</td>\n",
       "      <td>Sunny</td>\n",
       "      <td>80</td>\n",
       "      <td>Restaurant(20-50)</td>\n",
       "      <td>2h</td>\n",
       "      <td>Male</td>\n",
       "      <td>26</td>\n",
       "      <td>Single</td>\n",
       "      <td>0</td>\n",
       "      <td>Bachelors degree</td>\n",
       "      <td>Sales &amp; Related</td>\n",
       "      <td>$75000 - $87499</td>\n",
       "      <td>NaN</td>\n",
       "      <td>never</td>\n",
       "      <td>never</td>\n",
       "      <td>1~3</td>\n",
       "      <td>4~8</td>\n",
       "      <td>1~3</td>\n",
       "      <td>1</td>\n",
       "      <td>0</td>\n",
       "      <td>0</td>\n",
       "      <td>1</td>\n",
       "      <td>0</td>\n",
       "      <td>0</td>\n",
       "    </tr>\n",
       "  </tbody>\n",
       "</table>\n",
       "</div>"
      ],
      "text/plain": [
       "      destination passanger weather  temperature                 coupon  \\\n",
       "12679        Home   Partner   Rainy           55  Carry out & Take away   \n",
       "12680        Work     Alone   Rainy           55  Carry out & Take away   \n",
       "12681        Work     Alone   Snowy           30           Coffee House   \n",
       "12682        Work     Alone   Snowy           30                    Bar   \n",
       "12683        Work     Alone   Sunny           80      Restaurant(20-50)   \n",
       "\n",
       "      expiration gender age maritalStatus  has_children         education  \\\n",
       "12679         1d   Male  26        Single             0  Bachelors degree   \n",
       "12680         1d   Male  26        Single             0  Bachelors degree   \n",
       "12681         1d   Male  26        Single             0  Bachelors degree   \n",
       "12682         1d   Male  26        Single             0  Bachelors degree   \n",
       "12683         2h   Male  26        Single             0  Bachelors degree   \n",
       "\n",
       "            occupation           income  car    Bar CoffeeHouse CarryAway  \\\n",
       "12679  Sales & Related  $75000 - $87499  NaN  never       never       1~3   \n",
       "12680  Sales & Related  $75000 - $87499  NaN  never       never       1~3   \n",
       "12681  Sales & Related  $75000 - $87499  NaN  never       never       1~3   \n",
       "12682  Sales & Related  $75000 - $87499  NaN  never       never       1~3   \n",
       "12683  Sales & Related  $75000 - $87499  NaN  never       never       1~3   \n",
       "\n",
       "      RestaurantLessThan20 Restaurant20To50  toCoupon_GEQ5min  \\\n",
       "12679                  4~8              1~3                 1   \n",
       "12680                  4~8              1~3                 1   \n",
       "12681                  4~8              1~3                 1   \n",
       "12682                  4~8              1~3                 1   \n",
       "12683                  4~8              1~3                 1   \n",
       "\n",
       "       toCoupon_GEQ15min  toCoupon_GEQ25min  direction_same  direction_opp  \\\n",
       "12679                  0                  0               1              0   \n",
       "12680                  0                  0               0              1   \n",
       "12681                  0                  0               1              0   \n",
       "12682                  1                  1               0              1   \n",
       "12683                  0                  0               1              0   \n",
       "\n",
       "       Accept(Y/N?)  \n",
       "12679             1  \n",
       "12680             1  \n",
       "12681             0  \n",
       "12682             0  \n",
       "12683             0  "
      ]
     },
     "execution_count": 5,
     "metadata": {},
     "output_type": "execute_result"
    }
   ],
   "source": [
    "df.tail(5)"
   ]
  },
  {
   "cell_type": "code",
   "execution_count": 6,
   "id": "43d6d29a",
   "metadata": {},
   "outputs": [
    {
     "data": {
      "text/plain": [
       "array([nan, 'Scooter and motorcycle', 'crossover', 'Mazda5',\n",
       "       'do not drive', 'Car that is too old to install Onstar :D'],\n",
       "      dtype=object)"
      ]
     },
     "execution_count": 6,
     "metadata": {},
     "output_type": "execute_result"
    }
   ],
   "source": [
    "df.car.unique()"
   ]
  },
  {
   "cell_type": "code",
   "execution_count": 7,
   "id": "2d31e846",
   "metadata": {},
   "outputs": [
    {
     "data": {
      "text/plain": [
       "(12684, 25)"
      ]
     },
     "execution_count": 7,
     "metadata": {},
     "output_type": "execute_result"
    }
   ],
   "source": [
    "df.shape"
   ]
  },
  {
   "cell_type": "markdown",
   "id": "9ebb842e",
   "metadata": {},
   "source": [
    "We have __ rows and __ columns in the dataset."
   ]
  },
  {
   "cell_type": "code",
   "execution_count": 8,
   "id": "0f9058b3",
   "metadata": {},
   "outputs": [
    {
     "name": "stdout",
     "output_type": "stream",
     "text": [
      "<class 'pandas.core.frame.DataFrame'>\n",
      "RangeIndex: 12684 entries, 0 to 12683\n",
      "Data columns (total 25 columns):\n",
      " #   Column                Non-Null Count  Dtype \n",
      "---  ------                --------------  ----- \n",
      " 0   destination           12684 non-null  object\n",
      " 1   passanger             12684 non-null  object\n",
      " 2   weather               12684 non-null  object\n",
      " 3   temperature           12684 non-null  int64 \n",
      " 4   coupon                12684 non-null  object\n",
      " 5   expiration            12684 non-null  object\n",
      " 6   gender                12684 non-null  object\n",
      " 7   age                   12684 non-null  object\n",
      " 8   maritalStatus         12684 non-null  object\n",
      " 9   has_children          12684 non-null  int64 \n",
      " 10  education             12684 non-null  object\n",
      " 11  occupation            12684 non-null  object\n",
      " 12  income                12684 non-null  object\n",
      " 13  car                   108 non-null    object\n",
      " 14  Bar                   12577 non-null  object\n",
      " 15  CoffeeHouse           12467 non-null  object\n",
      " 16  CarryAway             12533 non-null  object\n",
      " 17  RestaurantLessThan20  12554 non-null  object\n",
      " 18  Restaurant20To50      12495 non-null  object\n",
      " 19  toCoupon_GEQ5min      12684 non-null  int64 \n",
      " 20  toCoupon_GEQ15min     12684 non-null  int64 \n",
      " 21  toCoupon_GEQ25min     12684 non-null  int64 \n",
      " 22  direction_same        12684 non-null  int64 \n",
      " 23  direction_opp         12684 non-null  int64 \n",
      " 24  Accept(Y/N?)          12684 non-null  int64 \n",
      "dtypes: int64(8), object(17)\n",
      "memory usage: 2.4+ MB\n"
     ]
    }
   ],
   "source": [
    "df.info()"
   ]
  },
  {
   "cell_type": "markdown",
   "id": "eb0be545",
   "metadata": {},
   "source": [
    "Form the above code, we can see there is no null values, we have int64(6), object(9) dtypes and memory used is 3.7+ MB"
   ]
  },
  {
   "cell_type": "code",
   "execution_count": 9,
   "id": "4a5db2d7",
   "metadata": {},
   "outputs": [
    {
     "data": {
      "text/plain": [
       "destination                 0\n",
       "passanger                   0\n",
       "weather                     0\n",
       "temperature                 0\n",
       "coupon                      0\n",
       "expiration                  0\n",
       "gender                      0\n",
       "age                         0\n",
       "maritalStatus               0\n",
       "has_children                0\n",
       "education                   0\n",
       "occupation                  0\n",
       "income                      0\n",
       "car                     12576\n",
       "Bar                       107\n",
       "CoffeeHouse               217\n",
       "CarryAway                 151\n",
       "RestaurantLessThan20      130\n",
       "Restaurant20To50          189\n",
       "toCoupon_GEQ5min            0\n",
       "toCoupon_GEQ15min           0\n",
       "toCoupon_GEQ25min           0\n",
       "direction_same              0\n",
       "direction_opp               0\n",
       "Accept(Y/N?)                0\n",
       "dtype: int64"
      ]
     },
     "execution_count": 9,
     "metadata": {},
     "output_type": "execute_result"
    }
   ],
   "source": [
    "df.isna().sum()"
   ]
  },
  {
   "cell_type": "markdown",
   "id": "fdfc9ee1",
   "metadata": {},
   "source": [
    "From the above code we can see that there is no null values"
   ]
  },
  {
   "cell_type": "code",
   "execution_count": 10,
   "id": "2bbb9d52",
   "metadata": {},
   "outputs": [],
   "source": [
    "df.drop('car',inplace=True,axis=1)"
   ]
  },
  {
   "cell_type": "code",
   "execution_count": 11,
   "id": "761b34f7",
   "metadata": {},
   "outputs": [
    {
     "data": {
      "text/plain": [
       "(12684, 24)"
      ]
     },
     "execution_count": 11,
     "metadata": {},
     "output_type": "execute_result"
    }
   ],
   "source": [
    "df.shape"
   ]
  },
  {
   "cell_type": "code",
   "execution_count": 12,
   "id": "fb252f81",
   "metadata": {},
   "outputs": [
    {
     "data": {
      "text/html": [
       "<div>\n",
       "<style scoped>\n",
       "    .dataframe tbody tr th:only-of-type {\n",
       "        vertical-align: middle;\n",
       "    }\n",
       "\n",
       "    .dataframe tbody tr th {\n",
       "        vertical-align: top;\n",
       "    }\n",
       "\n",
       "    .dataframe thead th {\n",
       "        text-align: right;\n",
       "    }\n",
       "</style>\n",
       "<table border=\"1\" class=\"dataframe\">\n",
       "  <thead>\n",
       "    <tr style=\"text-align: right;\">\n",
       "      <th></th>\n",
       "      <th>0</th>\n",
       "    </tr>\n",
       "  </thead>\n",
       "  <tbody>\n",
       "    <tr>\n",
       "      <th>destination</th>\n",
       "      <td>3</td>\n",
       "    </tr>\n",
       "    <tr>\n",
       "      <th>passanger</th>\n",
       "      <td>4</td>\n",
       "    </tr>\n",
       "    <tr>\n",
       "      <th>weather</th>\n",
       "      <td>3</td>\n",
       "    </tr>\n",
       "    <tr>\n",
       "      <th>temperature</th>\n",
       "      <td>3</td>\n",
       "    </tr>\n",
       "    <tr>\n",
       "      <th>coupon</th>\n",
       "      <td>5</td>\n",
       "    </tr>\n",
       "    <tr>\n",
       "      <th>expiration</th>\n",
       "      <td>2</td>\n",
       "    </tr>\n",
       "    <tr>\n",
       "      <th>gender</th>\n",
       "      <td>2</td>\n",
       "    </tr>\n",
       "    <tr>\n",
       "      <th>age</th>\n",
       "      <td>8</td>\n",
       "    </tr>\n",
       "    <tr>\n",
       "      <th>maritalStatus</th>\n",
       "      <td>5</td>\n",
       "    </tr>\n",
       "    <tr>\n",
       "      <th>has_children</th>\n",
       "      <td>2</td>\n",
       "    </tr>\n",
       "    <tr>\n",
       "      <th>education</th>\n",
       "      <td>6</td>\n",
       "    </tr>\n",
       "    <tr>\n",
       "      <th>occupation</th>\n",
       "      <td>25</td>\n",
       "    </tr>\n",
       "    <tr>\n",
       "      <th>income</th>\n",
       "      <td>9</td>\n",
       "    </tr>\n",
       "    <tr>\n",
       "      <th>Bar</th>\n",
       "      <td>5</td>\n",
       "    </tr>\n",
       "    <tr>\n",
       "      <th>CoffeeHouse</th>\n",
       "      <td>5</td>\n",
       "    </tr>\n",
       "    <tr>\n",
       "      <th>CarryAway</th>\n",
       "      <td>5</td>\n",
       "    </tr>\n",
       "    <tr>\n",
       "      <th>RestaurantLessThan20</th>\n",
       "      <td>5</td>\n",
       "    </tr>\n",
       "    <tr>\n",
       "      <th>Restaurant20To50</th>\n",
       "      <td>5</td>\n",
       "    </tr>\n",
       "    <tr>\n",
       "      <th>toCoupon_GEQ5min</th>\n",
       "      <td>1</td>\n",
       "    </tr>\n",
       "    <tr>\n",
       "      <th>toCoupon_GEQ15min</th>\n",
       "      <td>2</td>\n",
       "    </tr>\n",
       "    <tr>\n",
       "      <th>toCoupon_GEQ25min</th>\n",
       "      <td>2</td>\n",
       "    </tr>\n",
       "    <tr>\n",
       "      <th>direction_same</th>\n",
       "      <td>2</td>\n",
       "    </tr>\n",
       "    <tr>\n",
       "      <th>direction_opp</th>\n",
       "      <td>2</td>\n",
       "    </tr>\n",
       "    <tr>\n",
       "      <th>Accept(Y/N?)</th>\n",
       "      <td>2</td>\n",
       "    </tr>\n",
       "  </tbody>\n",
       "</table>\n",
       "</div>"
      ],
      "text/plain": [
       "                       0\n",
       "destination            3\n",
       "passanger              4\n",
       "weather                3\n",
       "temperature            3\n",
       "coupon                 5\n",
       "expiration             2\n",
       "gender                 2\n",
       "age                    8\n",
       "maritalStatus          5\n",
       "has_children           2\n",
       "education              6\n",
       "occupation            25\n",
       "income                 9\n",
       "Bar                    5\n",
       "CoffeeHouse            5\n",
       "CarryAway              5\n",
       "RestaurantLessThan20   5\n",
       "Restaurant20To50       5\n",
       "toCoupon_GEQ5min       1\n",
       "toCoupon_GEQ15min      2\n",
       "toCoupon_GEQ25min      2\n",
       "direction_same         2\n",
       "direction_opp          2\n",
       "Accept(Y/N?)           2"
      ]
     },
     "execution_count": 12,
     "metadata": {},
     "output_type": "execute_result"
    }
   ],
   "source": [
    "df.nunique().to_frame()"
   ]
  },
  {
   "cell_type": "code",
   "execution_count": 13,
   "id": "24e9fe6e",
   "metadata": {},
   "outputs": [],
   "source": [
    "# treating null values\n",
    "# as the null values are in object datatype we can't fill it using imputation technique so we are going to drop them\n",
    "df.dropna(inplace=True)"
   ]
  },
  {
   "cell_type": "code",
   "execution_count": 14,
   "id": "b7b6f7df",
   "metadata": {},
   "outputs": [
    {
     "name": "stdout",
     "output_type": "stream",
     "text": [
      "temperature:\n",
      "80    6222\n",
      "55    3662\n",
      "30    2195\n",
      "Name: temperature, dtype: int64\n",
      "\n",
      "\n",
      "\n",
      "has_children:\n",
      "0    7145\n",
      "1    4934\n",
      "Name: has_children, dtype: int64\n",
      "\n",
      "\n",
      "\n",
      "toCoupon_GEQ5min:\n",
      "1    12079\n",
      "Name: toCoupon_GEQ5min, dtype: int64\n",
      "\n",
      "\n",
      "\n",
      "toCoupon_GEQ15min:\n",
      "1    6779\n",
      "0    5300\n",
      "Name: toCoupon_GEQ15min, dtype: int64\n",
      "\n",
      "\n",
      "\n",
      "toCoupon_GEQ25min:\n",
      "0    10637\n",
      "1     1442\n",
      "Name: toCoupon_GEQ25min, dtype: int64\n",
      "\n",
      "\n",
      "\n",
      "direction_same:\n",
      "0    9480\n",
      "1    2599\n",
      "Name: direction_same, dtype: int64\n",
      "\n",
      "\n",
      "\n",
      "direction_opp:\n",
      "1    9480\n",
      "0    2599\n",
      "Name: direction_opp, dtype: int64\n",
      "\n",
      "\n",
      "\n",
      "Accept(Y/N?):\n",
      "1    6877\n",
      "0    5202\n",
      "Name: Accept(Y/N?), dtype: int64\n",
      "\n",
      "\n",
      "\n"
     ]
    }
   ],
   "source": [
    "for col in df.select_dtypes(exclude='object').columns:\n",
    "    print(f\"{col}:\")\n",
    "    print(df[col].value_counts())\n",
    "    print(\"\\n\\n\")"
   ]
  },
  {
   "cell_type": "markdown",
   "id": "8317db89",
   "metadata": {},
   "source": [
    "From the above code we can see that integer value have no problem."
   ]
  },
  {
   "cell_type": "code",
   "execution_count": 15,
   "id": "3967415f",
   "metadata": {},
   "outputs": [
    {
     "name": "stdout",
     "output_type": "stream",
     "text": [
      "destination:\n",
      "No Urgent Place    5970\n",
      "Home               3085\n",
      "Work               3024\n",
      "Name: destination, dtype: int64\n",
      "\n",
      "\n",
      "\n",
      "passanger:\n",
      "Alone        6969\n",
      "Friend(s)    3148\n",
      "Partner      1024\n",
      "Kid(s)        938\n",
      "Name: passanger, dtype: int64\n",
      "\n",
      "\n",
      "\n",
      "weather:\n",
      "Sunny    9601\n",
      "Snowy    1331\n",
      "Rainy    1147\n",
      "Name: weather, dtype: int64\n",
      "\n",
      "\n",
      "\n",
      "coupon:\n",
      "Coffee House             3816\n",
      "Restaurant(<20)          2653\n",
      "Carry out & Take away    2280\n",
      "Bar                      1913\n",
      "Restaurant(20-50)        1417\n",
      "Name: coupon, dtype: int64\n",
      "\n",
      "\n",
      "\n",
      "expiration:\n",
      "1d    6760\n",
      "2h    5319\n",
      "Name: expiration, dtype: int64\n",
      "\n",
      "\n",
      "\n",
      "gender:\n",
      "Female    6199\n",
      "Male      5880\n",
      "Name: gender, dtype: int64\n",
      "\n",
      "\n",
      "\n",
      "age:\n",
      "21         2537\n",
      "26         2399\n",
      "31         1925\n",
      "50plus     1732\n",
      "36         1253\n",
      "41         1065\n",
      "46          664\n",
      "below21     504\n",
      "Name: age, dtype: int64\n",
      "\n",
      "\n",
      "\n",
      "maritalStatus:\n",
      "Married partner      4831\n",
      "Single               4588\n",
      "Unmarried partner    2048\n",
      "Divorced              504\n",
      "Widowed               108\n",
      "Name: maritalStatus, dtype: int64\n",
      "\n",
      "\n",
      "\n",
      "education:\n",
      "Some college - no degree                  4219\n",
      "Bachelors degree                          4021\n",
      "Graduate degree (Masters or Doctorate)    1808\n",
      "Associates degree                         1066\n",
      "High School Graduate                       877\n",
      "Some High School                            88\n",
      "Name: education, dtype: int64\n",
      "\n",
      "\n",
      "\n",
      "occupation:\n",
      "Unemployed                                   1814\n",
      "Student                                      1497\n",
      "Computer & Mathematical                      1368\n",
      "Sales & Related                              1072\n",
      "Education&Training&Library                    855\n",
      "Management                                    772\n",
      "Office & Administrative Support               617\n",
      "Arts Design Entertainment Sports & Media      564\n",
      "Business & Financial                          516\n",
      "Retired                                       473\n",
      "Food Preparation & Serving Related            276\n",
      "Healthcare Support                            242\n",
      "Healthcare Practitioners & Technical          222\n",
      "Legal                                         219\n",
      "Community & Social Services                   219\n",
      "Transportation & Material Moving              218\n",
      "Protective Service                            175\n",
      "Architecture & Engineering                    175\n",
      "Life Physical Social Science                  170\n",
      "Construction & Extraction                     154\n",
      "Personal Care & Service                       153\n",
      "Installation Maintenance & Repair             133\n",
      "Production Occupations                         88\n",
      "Building & Grounds Cleaning & Maintenance      44\n",
      "Farming Fishing & Forestry                     43\n",
      "Name: occupation, dtype: int64\n",
      "\n",
      "\n",
      "\n",
      "income:\n",
      "$25000 - $37499     1919\n",
      "$12500 - $24999     1728\n",
      "$100000 or More     1692\n",
      "$37500 - $49999     1689\n",
      "$50000 - $62499     1565\n",
      "Less than $12500    1014\n",
      "$62500 - $74999      840\n",
      "$87500 - $99999      818\n",
      "$75000 - $87499      814\n",
      "Name: income, dtype: int64\n",
      "\n",
      "\n",
      "\n",
      "Bar:\n",
      "never    4934\n",
      "less1    3394\n",
      "1~3      2370\n",
      "4~8      1054\n",
      "gt8       327\n",
      "Name: Bar, dtype: int64\n",
      "\n",
      "\n",
      "\n",
      "CoffeeHouse:\n",
      "less1    3298\n",
      "1~3      3159\n",
      "never    2852\n",
      "4~8      1659\n",
      "gt8      1111\n",
      "Name: CoffeeHouse, dtype: int64\n",
      "\n",
      "\n",
      "\n",
      "CarryAway:\n",
      "1~3      4502\n",
      "4~8      4083\n",
      "less1    1790\n",
      "gt8      1573\n",
      "never     131\n",
      "Name: CarryAway, dtype: int64\n",
      "\n",
      "\n",
      "\n",
      "RestaurantLessThan20:\n",
      "1~3      5163\n",
      "4~8      3450\n",
      "less1    2005\n",
      "gt8      1285\n",
      "never     176\n",
      "Name: RestaurantLessThan20, dtype: int64\n",
      "\n",
      "\n",
      "\n",
      "Restaurant20To50:\n",
      "less1    5859\n",
      "1~3      3202\n",
      "never    2070\n",
      "4~8       684\n",
      "gt8       264\n",
      "Name: Restaurant20To50, dtype: int64\n",
      "\n",
      "\n",
      "\n"
     ]
    }
   ],
   "source": [
    "for col in df.select_dtypes(include='object').columns:\n",
    "    print(f\"{col}:\")\n",
    "    print(df[col].value_counts())\n",
    "    print(\"\\n\\n\")"
   ]
  },
  {
   "cell_type": "code",
   "execution_count": 16,
   "id": "070fa306",
   "metadata": {},
   "outputs": [
    {
     "data": {
      "text/html": [
       "<div>\n",
       "<style scoped>\n",
       "    .dataframe tbody tr th:only-of-type {\n",
       "        vertical-align: middle;\n",
       "    }\n",
       "\n",
       "    .dataframe tbody tr th {\n",
       "        vertical-align: top;\n",
       "    }\n",
       "\n",
       "    .dataframe thead th {\n",
       "        text-align: right;\n",
       "    }\n",
       "</style>\n",
       "<table border=\"1\" class=\"dataframe\">\n",
       "  <thead>\n",
       "    <tr style=\"text-align: right;\">\n",
       "      <th></th>\n",
       "      <th>temperature</th>\n",
       "      <th>has_children</th>\n",
       "      <th>toCoupon_GEQ5min</th>\n",
       "      <th>toCoupon_GEQ15min</th>\n",
       "      <th>toCoupon_GEQ25min</th>\n",
       "      <th>direction_same</th>\n",
       "      <th>direction_opp</th>\n",
       "      <th>Accept(Y/N?)</th>\n",
       "    </tr>\n",
       "  </thead>\n",
       "  <tbody>\n",
       "    <tr>\n",
       "      <th>count</th>\n",
       "      <td>12079.000000</td>\n",
       "      <td>12079.000000</td>\n",
       "      <td>12079.0</td>\n",
       "      <td>12079.000000</td>\n",
       "      <td>12079.000000</td>\n",
       "      <td>12079.000000</td>\n",
       "      <td>12079.000000</td>\n",
       "      <td>12079.000000</td>\n",
       "    </tr>\n",
       "    <tr>\n",
       "      <th>mean</th>\n",
       "      <td>63.334713</td>\n",
       "      <td>0.408478</td>\n",
       "      <td>1.0</td>\n",
       "      <td>0.561222</td>\n",
       "      <td>0.119381</td>\n",
       "      <td>0.215167</td>\n",
       "      <td>0.784833</td>\n",
       "      <td>0.569335</td>\n",
       "    </tr>\n",
       "    <tr>\n",
       "      <th>std</th>\n",
       "      <td>19.133246</td>\n",
       "      <td>0.491573</td>\n",
       "      <td>0.0</td>\n",
       "      <td>0.496258</td>\n",
       "      <td>0.324249</td>\n",
       "      <td>0.410955</td>\n",
       "      <td>0.410955</td>\n",
       "      <td>0.495190</td>\n",
       "    </tr>\n",
       "    <tr>\n",
       "      <th>min</th>\n",
       "      <td>30.000000</td>\n",
       "      <td>0.000000</td>\n",
       "      <td>1.0</td>\n",
       "      <td>0.000000</td>\n",
       "      <td>0.000000</td>\n",
       "      <td>0.000000</td>\n",
       "      <td>0.000000</td>\n",
       "      <td>0.000000</td>\n",
       "    </tr>\n",
       "    <tr>\n",
       "      <th>25%</th>\n",
       "      <td>55.000000</td>\n",
       "      <td>0.000000</td>\n",
       "      <td>1.0</td>\n",
       "      <td>0.000000</td>\n",
       "      <td>0.000000</td>\n",
       "      <td>0.000000</td>\n",
       "      <td>1.000000</td>\n",
       "      <td>0.000000</td>\n",
       "    </tr>\n",
       "    <tr>\n",
       "      <th>50%</th>\n",
       "      <td>80.000000</td>\n",
       "      <td>0.000000</td>\n",
       "      <td>1.0</td>\n",
       "      <td>1.000000</td>\n",
       "      <td>0.000000</td>\n",
       "      <td>0.000000</td>\n",
       "      <td>1.000000</td>\n",
       "      <td>1.000000</td>\n",
       "    </tr>\n",
       "    <tr>\n",
       "      <th>75%</th>\n",
       "      <td>80.000000</td>\n",
       "      <td>1.000000</td>\n",
       "      <td>1.0</td>\n",
       "      <td>1.000000</td>\n",
       "      <td>0.000000</td>\n",
       "      <td>0.000000</td>\n",
       "      <td>1.000000</td>\n",
       "      <td>1.000000</td>\n",
       "    </tr>\n",
       "    <tr>\n",
       "      <th>max</th>\n",
       "      <td>80.000000</td>\n",
       "      <td>1.000000</td>\n",
       "      <td>1.0</td>\n",
       "      <td>1.000000</td>\n",
       "      <td>1.000000</td>\n",
       "      <td>1.000000</td>\n",
       "      <td>1.000000</td>\n",
       "      <td>1.000000</td>\n",
       "    </tr>\n",
       "  </tbody>\n",
       "</table>\n",
       "</div>"
      ],
      "text/plain": [
       "        temperature  has_children  toCoupon_GEQ5min  toCoupon_GEQ15min  \\\n",
       "count  12079.000000  12079.000000           12079.0       12079.000000   \n",
       "mean      63.334713      0.408478               1.0           0.561222   \n",
       "std       19.133246      0.491573               0.0           0.496258   \n",
       "min       30.000000      0.000000               1.0           0.000000   \n",
       "25%       55.000000      0.000000               1.0           0.000000   \n",
       "50%       80.000000      0.000000               1.0           1.000000   \n",
       "75%       80.000000      1.000000               1.0           1.000000   \n",
       "max       80.000000      1.000000               1.0           1.000000   \n",
       "\n",
       "       toCoupon_GEQ25min  direction_same  direction_opp  Accept(Y/N?)  \n",
       "count       12079.000000    12079.000000   12079.000000  12079.000000  \n",
       "mean            0.119381        0.215167       0.784833      0.569335  \n",
       "std             0.324249        0.410955       0.410955      0.495190  \n",
       "min             0.000000        0.000000       0.000000      0.000000  \n",
       "25%             0.000000        0.000000       1.000000      0.000000  \n",
       "50%             0.000000        0.000000       1.000000      1.000000  \n",
       "75%             0.000000        0.000000       1.000000      1.000000  \n",
       "max             1.000000        1.000000       1.000000      1.000000  "
      ]
     },
     "execution_count": 16,
     "metadata": {},
     "output_type": "execute_result"
    }
   ],
   "source": [
    "df.describe()"
   ]
  },
  {
   "cell_type": "markdown",
   "id": "960a0074",
   "metadata": {},
   "source": [
    "From description:-\n",
    "\n",
    "1.All column have 12079 values so no missing value present.\n",
    "\n"
   ]
  },
  {
   "cell_type": "code",
   "execution_count": 17,
   "id": "b376aa5e",
   "metadata": {},
   "outputs": [
    {
     "data": {
      "text/plain": [
       "array([55, 80, 30], dtype=int64)"
      ]
     },
     "execution_count": 17,
     "metadata": {},
     "output_type": "execute_result"
    }
   ],
   "source": [
    "df.temperature.unique()"
   ]
  },
  {
   "cell_type": "markdown",
   "id": "2260b082",
   "metadata": {},
   "source": [
    "# Graphical Analysis"
   ]
  },
  {
   "cell_type": "markdown",
   "id": "fbde3a3e",
   "metadata": {},
   "source": [
    "## Univarient Analysis"
   ]
  },
  {
   "cell_type": "code",
   "execution_count": 18,
   "id": "daefab9c",
   "metadata": {},
   "outputs": [],
   "source": [
    "import seaborn as sns\n",
    "import matplotlib.pyplot as plt"
   ]
  },
  {
   "cell_type": "code",
   "execution_count": 19,
   "id": "c18039e5",
   "metadata": {},
   "outputs": [],
   "source": [
    "# df2 will have only datatype int 64 in it\n",
    "df2= df.select_dtypes(include='int64')"
   ]
  },
  {
   "cell_type": "code",
   "execution_count": 20,
   "id": "40cc52df",
   "metadata": {},
   "outputs": [],
   "source": [
    "# dfo will have only datatype object in it\n",
    "dfo=df.select_dtypes(include='object')"
   ]
  },
  {
   "cell_type": "code",
   "execution_count": 21,
   "id": "166913e2",
   "metadata": {},
   "outputs": [
    {
     "data": {
      "text/plain": [
       "(12079, 16)"
      ]
     },
     "execution_count": 21,
     "metadata": {},
     "output_type": "execute_result"
    }
   ],
   "source": [
    "dfo.shape"
   ]
  },
  {
   "cell_type": "code",
   "execution_count": 22,
   "id": "1a23b7b9",
   "metadata": {},
   "outputs": [
    {
     "data": {
      "text/plain": [
       "(12079, 8)"
      ]
     },
     "execution_count": 22,
     "metadata": {},
     "output_type": "execute_result"
    }
   ],
   "source": [
    "# Checking the shape of dataframe contating integre values\n",
    "df2.shape"
   ]
  },
  {
   "cell_type": "code",
   "execution_count": 23,
   "id": "e797bad3",
   "metadata": {},
   "outputs": [
    {
     "data": {
      "text/plain": [
       "(12079, 24)"
      ]
     },
     "execution_count": 23,
     "metadata": {},
     "output_type": "execute_result"
    }
   ],
   "source": [
    "df.shape"
   ]
  },
  {
   "cell_type": "code",
   "execution_count": 24,
   "id": "b2f4a198",
   "metadata": {},
   "outputs": [
    {
     "data": {
      "image/png": "[encoded data removed]",
      "text/plain": [
       "<Figure size 1008x864 with 6 Axes>"
      ]
     },
     "metadata": {},
     "output_type": "display_data"
    }
   ],
   "source": [
    "# Cretaing loop for finding the distribution of continuies values\n",
    "plt.figure(figsize=(14,12),facecolor=\"white\")\n",
    "plotnumber=1\n",
    "for col in df2:\n",
    "    if plotnumber<=6:\n",
    "        ax=plt.subplot(3,2,plotnumber)\n",
    "        sns.distplot(df2[col])\n",
    "        plt.xlabel(col,fontsize=12)\n",
    "    plotnumber+=1\n",
    "plt.tight_layout()"
   ]
  },
  {
   "cell_type": "markdown",
   "id": "d671b8fa",
   "metadata": {},
   "source": [
    "From the above graph we can see that,"
   ]
  },
  {
   "cell_type": "markdown",
   "id": "4bbc05d5",
   "metadata": {},
   "source": [
    "temprature has highest count for value 80  \n",
    "has_children has highest count for value 0  \n",
    "tocoupon_GEQ5min has only 1 value  \n",
    "tocoupon_GEQ15min has higest value count for 1  \n",
    "tocoupon_GEQ25min has highest count for 0  \n",
    "direction_same has highest count for 0   \n",
    "direction_opp has highest count for 1  \n",
    "accept(y/n) has higest count for 1 "
   ]
  },
  {
   "cell_type": "code",
   "execution_count": 32,
   "id": "e851e48b",
   "metadata": {},
   "outputs": [
    {
     "data": {
      "image/png": "[encoded data removed]",
      "text/plain": [
       "<Figure size 1008x864 with 6 Axes>"
      ]
     },
     "metadata": {},
     "output_type": "display_data"
    }
   ],
   "source": [
    "# Cretaing loop for finding the distribution of continuies values\n",
    "plt.figure(figsize=(14,12),facecolor=\"white\")\n",
    "plotnumber=1\n",
    "for col in df2:\n",
    "    if plotnumber<=6:\n",
    "        ax=plt.subplot(3,2,plotnumber)\n",
    "        sns.histplot(df2[col])\n",
    "        plt.xlabel(col,fontsize=12)\n",
    "    plotnumber+=1\n",
    "plt.tight_layout()"
   ]
  },
  {
   "cell_type": "markdown",
   "id": "955a67c0",
   "metadata": {},
   "source": [
    "temprature has highest count for value 80 is 6000   \n",
    "has_children has highest count for value 0 is 7000   \n",
    "to coupon GEQ5 has only 1 value   \n",
    "to coupon GEQ15 has higest value count for 1 is 7000   \n",
    "to coupon GEQ25 has highest count for 0 is 11000    \n",
    "direction same has highest count for 0 is almost 10000    \n",
    "direction opp has highest count for 1 is almost 10000   \n",
    "accept(y/n) has higest count for 1 is aprox 7000   "
   ]
  },
  {
   "cell_type": "code",
   "execution_count": 34,
   "id": "bceb5a61",
   "metadata": {},
   "outputs": [
    {
     "data": {
      "text/plain": [
       "destination              3\n",
       "passanger                4\n",
       "weather                  3\n",
       "coupon                   5\n",
       "expiration               2\n",
       "gender                   2\n",
       "age                      8\n",
       "maritalStatus            5\n",
       "education                6\n",
       "occupation              25\n",
       "income                   9\n",
       "Bar                      5\n",
       "CoffeeHouse              5\n",
       "CarryAway                5\n",
       "RestaurantLessThan20     5\n",
       "Restaurant20To50         5\n",
       "dtype: int64"
      ]
     },
     "execution_count": 34,
     "metadata": {},
     "output_type": "execute_result"
    }
   ],
   "source": [
    "dfo.nunique()"
   ]
  },
  {
   "cell_type": "markdown",
   "id": "6c27884a",
   "metadata": {},
   "source": [
    "### Multi-Varient Analysis"
   ]
  },
  {
   "cell_type": "code",
   "execution_count": 35,
   "id": "d6110b73",
   "metadata": {},
   "outputs": [
    {
     "data": {
      "text/plain": [
       "<seaborn.axisgrid.PairGrid at 0x244a8eb0ca0>"
      ]
     },
     "execution_count": 35,
     "metadata": {},
     "output_type": "execute_result"
    },
    {
     "data": {
      "image/png": "[encoded data removed]",
      "text/plain": [
       "<Figure size 1440x1440 with 72 Axes>"
      ]
     },
     "metadata": {
      "needs_background": "light"
     },
     "output_type": "display_data"
    }
   ],
   "source": [
    "sns.pairplot(df)"
   ]
  },
  {
   "cell_type": "markdown",
   "id": "7a3239b5",
   "metadata": {},
   "source": [
    "we cant find trend in categorical values"
   ]
  },
  {
   "cell_type": "markdown",
   "id": "4b36e25d",
   "metadata": {},
   "source": [
    "# Feature engineering"
   ]
  },
  {
   "cell_type": "markdown",
   "id": "496f9735",
   "metadata": {},
   "source": [
    "## Checking the outliers"
   ]
  },
  {
   "cell_type": "code",
   "execution_count": 28,
   "id": "132bac3c",
   "metadata": {},
   "outputs": [
    {
     "data": {
      "image/png": "[encoded data removed]",
      "text/plain": [
       "<Figure size 936x504 with 8 Axes>"
      ]
     },
     "metadata": {},
     "output_type": "display_data"
    }
   ],
   "source": [
    "plt.figure(figsize=(13,7),facecolor=\"white\")\n",
    "plotnumber=1\n",
    "for col in df2:\n",
    "    if plotnumber<=8:\n",
    "        ax=plt.subplot(3,3,plotnumber)\n",
    "        sns.boxplot(df2[col])\n",
    "        plt.xlabel(col,fontsize=12)\n",
    "    plotnumber+=1\n",
    "plt.tight_layout()"
   ]
  },
  {
   "cell_type": "markdown",
   "id": "8797d299",
   "metadata": {},
   "source": [
    "From the above we have outliers in (tocoupon_GEQ5min,tocoupon_GEQ15min,tocoupon_GEQ25min,direction_opp)but all these columns are categorical value so we are going to leave them as it is."
   ]
  },
  {
   "cell_type": "markdown",
   "id": "836d9bf4",
   "metadata": {},
   "source": [
    "## Checking the skewness"
   ]
  },
  {
   "cell_type": "code",
   "execution_count": 29,
   "id": "96e2fff9",
   "metadata": {},
   "outputs": [
    {
     "data": {
      "text/plain": [
       "temperature         -0.645845\n",
       "has_children         0.372428\n",
       "toCoupon_GEQ5min     0.000000\n",
       "toCoupon_GEQ15min   -0.246775\n",
       "toCoupon_GEQ25min    2.348083\n",
       "direction_same       1.386431\n",
       "direction_opp       -1.386431\n",
       "Accept(Y/N?)        -0.280081\n",
       "dtype: float64"
      ]
     },
     "execution_count": 29,
     "metadata": {},
     "output_type": "execute_result"
    }
   ],
   "source": [
    "df.skew()"
   ]
  },
  {
   "cell_type": "markdown",
   "id": "23b2a6c9",
   "metadata": {},
   "source": [
    "We can see that data is highly skewed for some of the columns."
   ]
  },
  {
   "cell_type": "markdown",
   "id": "735ce9f0",
   "metadata": {},
   "source": [
    "## Encoding"
   ]
  },
  {
   "cell_type": "code",
   "execution_count": 30,
   "id": "d467e9d6",
   "metadata": {},
   "outputs": [],
   "source": [
    "# Creating backup\n",
    "dfi=df"
   ]
  },
  {
   "cell_type": "code",
   "execution_count": 31,
   "id": "fa9d2b49",
   "metadata": {},
   "outputs": [
    {
     "data": {
      "text/plain": [
       "destination              3\n",
       "passanger                4\n",
       "weather                  3\n",
       "coupon                   5\n",
       "expiration               2\n",
       "gender                   2\n",
       "age                      8\n",
       "maritalStatus            5\n",
       "education                6\n",
       "occupation              25\n",
       "income                   9\n",
       "Bar                      5\n",
       "CoffeeHouse              5\n",
       "CarryAway                5\n",
       "RestaurantLessThan20     5\n",
       "Restaurant20To50         5\n",
       "dtype: int64"
      ]
     },
     "execution_count": 31,
     "metadata": {},
     "output_type": "execute_result"
    }
   ],
   "source": [
    "dfo.nunique()"
   ]
  },
  {
   "cell_type": "code",
   "execution_count": 32,
   "id": "fc81aed3",
   "metadata": {},
   "outputs": [
    {
     "data": {
      "text/html": [
       "<div>\n",
       "<style scoped>\n",
       "    .dataframe tbody tr th:only-of-type {\n",
       "        vertical-align: middle;\n",
       "    }\n",
       "\n",
       "    .dataframe tbody tr th {\n",
       "        vertical-align: top;\n",
       "    }\n",
       "\n",
       "    .dataframe thead th {\n",
       "        text-align: right;\n",
       "    }\n",
       "</style>\n",
       "<table border=\"1\" class=\"dataframe\">\n",
       "  <thead>\n",
       "    <tr style=\"text-align: right;\">\n",
       "      <th></th>\n",
       "      <th>destination</th>\n",
       "      <th>passanger</th>\n",
       "      <th>weather</th>\n",
       "      <th>temperature</th>\n",
       "      <th>coupon</th>\n",
       "      <th>expiration</th>\n",
       "      <th>gender</th>\n",
       "      <th>age</th>\n",
       "      <th>maritalStatus</th>\n",
       "      <th>has_children</th>\n",
       "      <th>education</th>\n",
       "      <th>occupation</th>\n",
       "      <th>income</th>\n",
       "      <th>Bar</th>\n",
       "      <th>CoffeeHouse</th>\n",
       "      <th>CarryAway</th>\n",
       "      <th>RestaurantLessThan20</th>\n",
       "      <th>Restaurant20To50</th>\n",
       "      <th>toCoupon_GEQ5min</th>\n",
       "      <th>toCoupon_GEQ15min</th>\n",
       "      <th>toCoupon_GEQ25min</th>\n",
       "      <th>direction_same</th>\n",
       "      <th>direction_opp</th>\n",
       "      <th>Accept(Y/N?)</th>\n",
       "    </tr>\n",
       "  </thead>\n",
       "  <tbody>\n",
       "    <tr>\n",
       "      <th>22</th>\n",
       "      <td>1</td>\n",
       "      <td>0</td>\n",
       "      <td>2</td>\n",
       "      <td>55</td>\n",
       "      <td>4</td>\n",
       "      <td>0</td>\n",
       "      <td>1</td>\n",
       "      <td>0</td>\n",
       "      <td>2</td>\n",
       "      <td>0</td>\n",
       "      <td>1</td>\n",
       "      <td>0</td>\n",
       "      <td>5</td>\n",
       "      <td>4</td>\n",
       "      <td>3</td>\n",
       "      <td>1</td>\n",
       "      <td>1</td>\n",
       "      <td>3</td>\n",
       "      <td>1</td>\n",
       "      <td>0</td>\n",
       "      <td>0</td>\n",
       "      <td>0</td>\n",
       "      <td>1</td>\n",
       "      <td>1</td>\n",
       "    </tr>\n",
       "    <tr>\n",
       "      <th>23</th>\n",
       "      <td>1</td>\n",
       "      <td>1</td>\n",
       "      <td>2</td>\n",
       "      <td>80</td>\n",
       "      <td>2</td>\n",
       "      <td>1</td>\n",
       "      <td>1</td>\n",
       "      <td>0</td>\n",
       "      <td>2</td>\n",
       "      <td>0</td>\n",
       "      <td>1</td>\n",
       "      <td>0</td>\n",
       "      <td>5</td>\n",
       "      <td>4</td>\n",
       "      <td>3</td>\n",
       "      <td>1</td>\n",
       "      <td>1</td>\n",
       "      <td>3</td>\n",
       "      <td>1</td>\n",
       "      <td>0</td>\n",
       "      <td>0</td>\n",
       "      <td>0</td>\n",
       "      <td>1</td>\n",
       "      <td>0</td>\n",
       "    </tr>\n",
       "    <tr>\n",
       "      <th>24</th>\n",
       "      <td>1</td>\n",
       "      <td>1</td>\n",
       "      <td>2</td>\n",
       "      <td>80</td>\n",
       "      <td>0</td>\n",
       "      <td>0</td>\n",
       "      <td>1</td>\n",
       "      <td>0</td>\n",
       "      <td>2</td>\n",
       "      <td>0</td>\n",
       "      <td>1</td>\n",
       "      <td>0</td>\n",
       "      <td>5</td>\n",
       "      <td>4</td>\n",
       "      <td>3</td>\n",
       "      <td>1</td>\n",
       "      <td>1</td>\n",
       "      <td>3</td>\n",
       "      <td>1</td>\n",
       "      <td>0</td>\n",
       "      <td>0</td>\n",
       "      <td>0</td>\n",
       "      <td>1</td>\n",
       "      <td>1</td>\n",
       "    </tr>\n",
       "    <tr>\n",
       "      <th>25</th>\n",
       "      <td>1</td>\n",
       "      <td>1</td>\n",
       "      <td>2</td>\n",
       "      <td>80</td>\n",
       "      <td>1</td>\n",
       "      <td>1</td>\n",
       "      <td>1</td>\n",
       "      <td>0</td>\n",
       "      <td>2</td>\n",
       "      <td>0</td>\n",
       "      <td>1</td>\n",
       "      <td>0</td>\n",
       "      <td>5</td>\n",
       "      <td>4</td>\n",
       "      <td>3</td>\n",
       "      <td>1</td>\n",
       "      <td>1</td>\n",
       "      <td>3</td>\n",
       "      <td>1</td>\n",
       "      <td>1</td>\n",
       "      <td>0</td>\n",
       "      <td>0</td>\n",
       "      <td>1</td>\n",
       "      <td>0</td>\n",
       "    </tr>\n",
       "    <tr>\n",
       "      <th>26</th>\n",
       "      <td>1</td>\n",
       "      <td>1</td>\n",
       "      <td>2</td>\n",
       "      <td>80</td>\n",
       "      <td>2</td>\n",
       "      <td>0</td>\n",
       "      <td>1</td>\n",
       "      <td>0</td>\n",
       "      <td>2</td>\n",
       "      <td>0</td>\n",
       "      <td>1</td>\n",
       "      <td>0</td>\n",
       "      <td>5</td>\n",
       "      <td>4</td>\n",
       "      <td>3</td>\n",
       "      <td>1</td>\n",
       "      <td>1</td>\n",
       "      <td>3</td>\n",
       "      <td>1</td>\n",
       "      <td>0</td>\n",
       "      <td>0</td>\n",
       "      <td>0</td>\n",
       "      <td>1</td>\n",
       "      <td>0</td>\n",
       "    </tr>\n",
       "  </tbody>\n",
       "</table>\n",
       "</div>"
      ],
      "text/plain": [
       "    destination  passanger  weather  temperature  coupon  expiration  gender  \\\n",
       "22            1          0        2           55       4           0       1   \n",
       "23            1          1        2           80       2           1       1   \n",
       "24            1          1        2           80       0           0       1   \n",
       "25            1          1        2           80       1           1       1   \n",
       "26            1          1        2           80       2           0       1   \n",
       "\n",
       "    age  maritalStatus  has_children  education  occupation  income  Bar  \\\n",
       "22    0              2             0          1           0       5    4   \n",
       "23    0              2             0          1           0       5    4   \n",
       "24    0              2             0          1           0       5    4   \n",
       "25    0              2             0          1           0       5    4   \n",
       "26    0              2             0          1           0       5    4   \n",
       "\n",
       "    CoffeeHouse  CarryAway  RestaurantLessThan20  Restaurant20To50  \\\n",
       "22            3          1                     1                 3   \n",
       "23            3          1                     1                 3   \n",
       "24            3          1                     1                 3   \n",
       "25            3          1                     1                 3   \n",
       "26            3          1                     1                 3   \n",
       "\n",
       "    toCoupon_GEQ5min  toCoupon_GEQ15min  toCoupon_GEQ25min  direction_same  \\\n",
       "22                 1                  0                  0               0   \n",
       "23                 1                  0                  0               0   \n",
       "24                 1                  0                  0               0   \n",
       "25                 1                  1                  0               0   \n",
       "26                 1                  0                  0               0   \n",
       "\n",
       "    direction_opp  Accept(Y/N?)  \n",
       "22              1             1  \n",
       "23              1             0  \n",
       "24              1             1  \n",
       "25              1             0  \n",
       "26              1             0  "
      ]
     },
     "execution_count": 32,
     "metadata": {},
     "output_type": "execute_result"
    }
   ],
   "source": [
    "from sklearn.preprocessing import LabelEncoder\n",
    "# Encoding the Features \n",
    "lab_enc=LabelEncoder()\n",
    "encode=dfo\n",
    "for i in encode:\n",
    "    dfo=lab_enc.fit_transform(encode[i])\n",
    "    pd.Series(dfo)\n",
    "    df[i]=dfo\n",
    "df.head()"
   ]
  },
  {
   "cell_type": "code",
   "execution_count": 33,
   "id": "b4ce29b2",
   "metadata": {},
   "outputs": [
    {
     "data": {
      "text/plain": [
       "(12079, 24)"
      ]
     },
     "execution_count": 33,
     "metadata": {},
     "output_type": "execute_result"
    }
   ],
   "source": [
    "df.shape"
   ]
  },
  {
   "cell_type": "markdown",
   "id": "533c1d05",
   "metadata": {},
   "source": [
    "## Checking the correlation"
   ]
  },
  {
   "cell_type": "code",
   "execution_count": 34,
   "id": "732b1ff2",
   "metadata": {
    "scrolled": true
   },
   "outputs": [
    {
     "data": {
      "text/html": [
       "<div>\n",
       "<style scoped>\n",
       "    .dataframe tbody tr th:only-of-type {\n",
       "        vertical-align: middle;\n",
       "    }\n",
       "\n",
       "    .dataframe tbody tr th {\n",
       "        vertical-align: top;\n",
       "    }\n",
       "\n",
       "    .dataframe thead th {\n",
       "        text-align: right;\n",
       "    }\n",
       "</style>\n",
       "<table border=\"1\" class=\"dataframe\">\n",
       "  <thead>\n",
       "    <tr style=\"text-align: right;\">\n",
       "      <th></th>\n",
       "      <th>destination</th>\n",
       "      <th>passanger</th>\n",
       "      <th>weather</th>\n",
       "      <th>temperature</th>\n",
       "      <th>coupon</th>\n",
       "      <th>expiration</th>\n",
       "      <th>gender</th>\n",
       "      <th>age</th>\n",
       "      <th>maritalStatus</th>\n",
       "      <th>has_children</th>\n",
       "      <th>education</th>\n",
       "      <th>occupation</th>\n",
       "      <th>income</th>\n",
       "      <th>Bar</th>\n",
       "      <th>CoffeeHouse</th>\n",
       "      <th>CarryAway</th>\n",
       "      <th>RestaurantLessThan20</th>\n",
       "      <th>Restaurant20To50</th>\n",
       "      <th>toCoupon_GEQ5min</th>\n",
       "      <th>toCoupon_GEQ15min</th>\n",
       "      <th>toCoupon_GEQ25min</th>\n",
       "      <th>direction_same</th>\n",
       "      <th>direction_opp</th>\n",
       "      <th>Accept(Y/N?)</th>\n",
       "    </tr>\n",
       "  </thead>\n",
       "  <tbody>\n",
       "    <tr>\n",
       "      <th>destination</th>\n",
       "      <td>1.000000</td>\n",
       "      <td>-0.118443</td>\n",
       "      <td>-0.077001</td>\n",
       "      <td>-0.027634</td>\n",
       "      <td>-0.011395</td>\n",
       "      <td>-0.031925</td>\n",
       "      <td>0.007382</td>\n",
       "      <td>-0.000464</td>\n",
       "      <td>0.001540</td>\n",
       "      <td>-0.006177</td>\n",
       "      <td>0.007745</td>\n",
       "      <td>-0.009348</td>\n",
       "      <td>-0.014372</td>\n",
       "      <td>-0.004150</td>\n",
       "      <td>-0.006834</td>\n",
       "      <td>-0.008737</td>\n",
       "      <td>0.003977</td>\n",
       "      <td>-0.000257</td>\n",
       "      <td>NaN</td>\n",
       "      <td>0.142924</td>\n",
       "      <td>0.197935</td>\n",
       "      <td>-0.084386</td>\n",
       "      <td>0.084386</td>\n",
       "      <td>-0.002180</td>\n",
       "    </tr>\n",
       "    <tr>\n",
       "      <th>passanger</th>\n",
       "      <td>-0.118443</td>\n",
       "      <td>1.000000</td>\n",
       "      <td>0.058399</td>\n",
       "      <td>0.054724</td>\n",
       "      <td>0.018187</td>\n",
       "      <td>0.072136</td>\n",
       "      <td>-0.023610</td>\n",
       "      <td>0.010460</td>\n",
       "      <td>-0.020086</td>\n",
       "      <td>0.038486</td>\n",
       "      <td>0.001726</td>\n",
       "      <td>-0.058621</td>\n",
       "      <td>-0.003997</td>\n",
       "      <td>0.014502</td>\n",
       "      <td>-0.011490</td>\n",
       "      <td>-0.012102</td>\n",
       "      <td>-0.032815</td>\n",
       "      <td>-0.031775</td>\n",
       "      <td>NaN</td>\n",
       "      <td>0.063373</td>\n",
       "      <td>-0.196917</td>\n",
       "      <td>-0.267905</td>\n",
       "      <td>0.267905</td>\n",
       "      <td>0.049525</td>\n",
       "    </tr>\n",
       "    <tr>\n",
       "      <th>weather</th>\n",
       "      <td>-0.077001</td>\n",
       "      <td>0.058399</td>\n",
       "      <td>1.000000</td>\n",
       "      <td>0.434394</td>\n",
       "      <td>0.146914</td>\n",
       "      <td>0.018267</td>\n",
       "      <td>-0.026548</td>\n",
       "      <td>-0.016652</td>\n",
       "      <td>-0.020392</td>\n",
       "      <td>0.011912</td>\n",
       "      <td>0.007230</td>\n",
       "      <td>-0.010054</td>\n",
       "      <td>-0.034568</td>\n",
       "      <td>0.004322</td>\n",
       "      <td>-0.005025</td>\n",
       "      <td>-0.042518</td>\n",
       "      <td>-0.002720</td>\n",
       "      <td>0.006717</td>\n",
       "      <td>NaN</td>\n",
       "      <td>-0.122025</td>\n",
       "      <td>-0.202372</td>\n",
       "      <td>0.017196</td>\n",
       "      <td>-0.017196</td>\n",
       "      <td>0.097774</td>\n",
       "    </tr>\n",
       "    <tr>\n",
       "      <th>temperature</th>\n",
       "      <td>-0.027634</td>\n",
       "      <td>0.054724</td>\n",
       "      <td>0.434394</td>\n",
       "      <td>1.000000</td>\n",
       "      <td>0.127679</td>\n",
       "      <td>0.125889</td>\n",
       "      <td>-0.027557</td>\n",
       "      <td>-0.025723</td>\n",
       "      <td>-0.000149</td>\n",
       "      <td>-0.020674</td>\n",
       "      <td>0.009118</td>\n",
       "      <td>0.002317</td>\n",
       "      <td>-0.028069</td>\n",
       "      <td>0.002320</td>\n",
       "      <td>0.008410</td>\n",
       "      <td>-0.037258</td>\n",
       "      <td>0.001875</td>\n",
       "      <td>0.001413</td>\n",
       "      <td>NaN</td>\n",
       "      <td>-0.155876</td>\n",
       "      <td>-0.215780</td>\n",
       "      <td>0.097539</td>\n",
       "      <td>-0.097539</td>\n",
       "      <td>0.056646</td>\n",
       "    </tr>\n",
       "    <tr>\n",
       "      <th>coupon</th>\n",
       "      <td>-0.011395</td>\n",
       "      <td>0.018187</td>\n",
       "      <td>0.146914</td>\n",
       "      <td>0.127679</td>\n",
       "      <td>1.000000</td>\n",
       "      <td>0.147818</td>\n",
       "      <td>0.008070</td>\n",
       "      <td>0.003189</td>\n",
       "      <td>0.000045</td>\n",
       "      <td>-0.009504</td>\n",
       "      <td>-0.001143</td>\n",
       "      <td>-0.003812</td>\n",
       "      <td>0.001648</td>\n",
       "      <td>-0.007467</td>\n",
       "      <td>-0.003588</td>\n",
       "      <td>-0.003347</td>\n",
       "      <td>0.010794</td>\n",
       "      <td>0.004786</td>\n",
       "      <td>NaN</td>\n",
       "      <td>-0.131775</td>\n",
       "      <td>-0.112877</td>\n",
       "      <td>-0.073228</td>\n",
       "      <td>0.073228</td>\n",
       "      <td>0.097371</td>\n",
       "    </tr>\n",
       "    <tr>\n",
       "      <th>expiration</th>\n",
       "      <td>-0.031925</td>\n",
       "      <td>0.072136</td>\n",
       "      <td>0.018267</td>\n",
       "      <td>0.125889</td>\n",
       "      <td>0.147818</td>\n",
       "      <td>1.000000</td>\n",
       "      <td>0.002247</td>\n",
       "      <td>0.008196</td>\n",
       "      <td>-0.012848</td>\n",
       "      <td>0.018086</td>\n",
       "      <td>-0.007777</td>\n",
       "      <td>-0.017149</td>\n",
       "      <td>-0.010977</td>\n",
       "      <td>-0.010060</td>\n",
       "      <td>-0.014806</td>\n",
       "      <td>-0.000724</td>\n",
       "      <td>-0.008636</td>\n",
       "      <td>-0.001101</td>\n",
       "      <td>NaN</td>\n",
       "      <td>0.043305</td>\n",
       "      <td>-0.032396</td>\n",
       "      <td>0.034709</td>\n",
       "      <td>-0.034709</td>\n",
       "      <td>-0.133131</td>\n",
       "    </tr>\n",
       "    <tr>\n",
       "      <th>gender</th>\n",
       "      <td>0.007382</td>\n",
       "      <td>-0.023610</td>\n",
       "      <td>-0.026548</td>\n",
       "      <td>-0.027557</td>\n",
       "      <td>0.008070</td>\n",
       "      <td>0.002247</td>\n",
       "      <td>1.000000</td>\n",
       "      <td>-0.064570</td>\n",
       "      <td>0.071326</td>\n",
       "      <td>-0.147875</td>\n",
       "      <td>0.016224</td>\n",
       "      <td>-0.008798</td>\n",
       "      <td>0.029523</td>\n",
       "      <td>-0.163997</td>\n",
       "      <td>0.059527</td>\n",
       "      <td>-0.028324</td>\n",
       "      <td>0.023693</td>\n",
       "      <td>-0.013097</td>\n",
       "      <td>NaN</td>\n",
       "      <td>-0.005336</td>\n",
       "      <td>0.002575</td>\n",
       "      <td>-0.005313</td>\n",
       "      <td>0.005313</td>\n",
       "      <td>0.045261</td>\n",
       "    </tr>\n",
       "    <tr>\n",
       "      <th>age</th>\n",
       "      <td>-0.000464</td>\n",
       "      <td>0.010460</td>\n",
       "      <td>-0.016652</td>\n",
       "      <td>-0.025723</td>\n",
       "      <td>0.003189</td>\n",
       "      <td>0.008196</td>\n",
       "      <td>-0.064570</td>\n",
       "      <td>1.000000</td>\n",
       "      <td>-0.175481</td>\n",
       "      <td>0.310204</td>\n",
       "      <td>0.082961</td>\n",
       "      <td>-0.023110</td>\n",
       "      <td>0.049181</td>\n",
       "      <td>0.207938</td>\n",
       "      <td>-0.003742</td>\n",
       "      <td>0.084913</td>\n",
       "      <td>-0.037672</td>\n",
       "      <td>0.002333</td>\n",
       "      <td>NaN</td>\n",
       "      <td>0.029525</td>\n",
       "      <td>-0.000625</td>\n",
       "      <td>-0.011535</td>\n",
       "      <td>0.011535</td>\n",
       "      <td>-0.035941</td>\n",
       "    </tr>\n",
       "    <tr>\n",
       "      <th>maritalStatus</th>\n",
       "      <td>0.001540</td>\n",
       "      <td>-0.020086</td>\n",
       "      <td>-0.020392</td>\n",
       "      <td>-0.000149</td>\n",
       "      <td>0.000045</td>\n",
       "      <td>-0.012848</td>\n",
       "      <td>0.071326</td>\n",
       "      <td>-0.175481</td>\n",
       "      <td>1.000000</td>\n",
       "      <td>-0.450210</td>\n",
       "      <td>0.059545</td>\n",
       "      <td>0.143548</td>\n",
       "      <td>0.081589</td>\n",
       "      <td>-0.114900</td>\n",
       "      <td>0.005586</td>\n",
       "      <td>-0.027383</td>\n",
       "      <td>-0.002230</td>\n",
       "      <td>0.038973</td>\n",
       "      <td>NaN</td>\n",
       "      <td>-0.051142</td>\n",
       "      <td>0.006106</td>\n",
       "      <td>0.017098</td>\n",
       "      <td>-0.017098</td>\n",
       "      <td>0.024728</td>\n",
       "    </tr>\n",
       "    <tr>\n",
       "      <th>has_children</th>\n",
       "      <td>-0.006177</td>\n",
       "      <td>0.038486</td>\n",
       "      <td>0.011912</td>\n",
       "      <td>-0.020674</td>\n",
       "      <td>-0.009504</td>\n",
       "      <td>0.018086</td>\n",
       "      <td>-0.147875</td>\n",
       "      <td>0.310204</td>\n",
       "      <td>-0.450210</td>\n",
       "      <td>1.000000</td>\n",
       "      <td>-0.053878</td>\n",
       "      <td>-0.113337</td>\n",
       "      <td>-0.002491</td>\n",
       "      <td>0.168831</td>\n",
       "      <td>-0.018363</td>\n",
       "      <td>0.003178</td>\n",
       "      <td>-0.065760</td>\n",
       "      <td>0.014881</td>\n",
       "      <td>NaN</td>\n",
       "      <td>0.079735</td>\n",
       "      <td>-0.014038</td>\n",
       "      <td>-0.033047</td>\n",
       "      <td>0.033047</td>\n",
       "      <td>-0.048333</td>\n",
       "    </tr>\n",
       "    <tr>\n",
       "      <th>education</th>\n",
       "      <td>0.007745</td>\n",
       "      <td>0.001726</td>\n",
       "      <td>0.007230</td>\n",
       "      <td>0.009118</td>\n",
       "      <td>-0.001143</td>\n",
       "      <td>-0.007777</td>\n",
       "      <td>0.016224</td>\n",
       "      <td>0.082961</td>\n",
       "      <td>0.059545</td>\n",
       "      <td>-0.053878</td>\n",
       "      <td>1.000000</td>\n",
       "      <td>0.117116</td>\n",
       "      <td>-0.000615</td>\n",
       "      <td>0.039096</td>\n",
       "      <td>0.006448</td>\n",
       "      <td>0.025289</td>\n",
       "      <td>0.022702</td>\n",
       "      <td>0.093532</td>\n",
       "      <td>NaN</td>\n",
       "      <td>-0.020142</td>\n",
       "      <td>-0.010472</td>\n",
       "      <td>0.002033</td>\n",
       "      <td>-0.002033</td>\n",
       "      <td>0.039059</td>\n",
       "    </tr>\n",
       "    <tr>\n",
       "      <th>occupation</th>\n",
       "      <td>-0.009348</td>\n",
       "      <td>-0.058621</td>\n",
       "      <td>-0.010054</td>\n",
       "      <td>0.002317</td>\n",
       "      <td>-0.003812</td>\n",
       "      <td>-0.017149</td>\n",
       "      <td>-0.008798</td>\n",
       "      <td>-0.023110</td>\n",
       "      <td>0.143548</td>\n",
       "      <td>-0.113337</td>\n",
       "      <td>0.117116</td>\n",
       "      <td>1.000000</td>\n",
       "      <td>0.167229</td>\n",
       "      <td>0.034283</td>\n",
       "      <td>0.049540</td>\n",
       "      <td>-0.022381</td>\n",
       "      <td>0.043074</td>\n",
       "      <td>0.015281</td>\n",
       "      <td>NaN</td>\n",
       "      <td>-0.025832</td>\n",
       "      <td>0.009317</td>\n",
       "      <td>0.031075</td>\n",
       "      <td>-0.031075</td>\n",
       "      <td>0.004693</td>\n",
       "    </tr>\n",
       "    <tr>\n",
       "      <th>income</th>\n",
       "      <td>-0.014372</td>\n",
       "      <td>-0.003997</td>\n",
       "      <td>-0.034568</td>\n",
       "      <td>-0.028069</td>\n",
       "      <td>0.001648</td>\n",
       "      <td>-0.010977</td>\n",
       "      <td>0.029523</td>\n",
       "      <td>0.049181</td>\n",
       "      <td>0.081589</td>\n",
       "      <td>-0.002491</td>\n",
       "      <td>-0.000615</td>\n",
       "      <td>0.167229</td>\n",
       "      <td>1.000000</td>\n",
       "      <td>0.009378</td>\n",
       "      <td>-0.029650</td>\n",
       "      <td>0.045824</td>\n",
       "      <td>0.051770</td>\n",
       "      <td>0.023520</td>\n",
       "      <td>NaN</td>\n",
       "      <td>0.007426</td>\n",
       "      <td>0.003913</td>\n",
       "      <td>0.018771</td>\n",
       "      <td>-0.018771</td>\n",
       "      <td>-0.027691</td>\n",
       "    </tr>\n",
       "    <tr>\n",
       "      <th>Bar</th>\n",
       "      <td>-0.004150</td>\n",
       "      <td>0.014502</td>\n",
       "      <td>0.004322</td>\n",
       "      <td>0.002320</td>\n",
       "      <td>-0.007467</td>\n",
       "      <td>-0.010060</td>\n",
       "      <td>-0.163997</td>\n",
       "      <td>0.207938</td>\n",
       "      <td>-0.114900</td>\n",
       "      <td>0.168831</td>\n",
       "      <td>0.039096</td>\n",
       "      <td>0.034283</td>\n",
       "      <td>0.009378</td>\n",
       "      <td>1.000000</td>\n",
       "      <td>0.152320</td>\n",
       "      <td>0.071162</td>\n",
       "      <td>0.082617</td>\n",
       "      <td>0.170417</td>\n",
       "      <td>NaN</td>\n",
       "      <td>0.024830</td>\n",
       "      <td>0.006992</td>\n",
       "      <td>-0.001931</td>\n",
       "      <td>0.001931</td>\n",
       "      <td>-0.079654</td>\n",
       "    </tr>\n",
       "    <tr>\n",
       "      <th>CoffeeHouse</th>\n",
       "      <td>-0.006834</td>\n",
       "      <td>-0.011490</td>\n",
       "      <td>-0.005025</td>\n",
       "      <td>0.008410</td>\n",
       "      <td>-0.003588</td>\n",
       "      <td>-0.014806</td>\n",
       "      <td>0.059527</td>\n",
       "      <td>-0.003742</td>\n",
       "      <td>0.005586</td>\n",
       "      <td>-0.018363</td>\n",
       "      <td>0.006448</td>\n",
       "      <td>0.049540</td>\n",
       "      <td>-0.029650</td>\n",
       "      <td>0.152320</td>\n",
       "      <td>1.000000</td>\n",
       "      <td>0.111711</td>\n",
       "      <td>0.165896</td>\n",
       "      <td>0.136144</td>\n",
       "      <td>NaN</td>\n",
       "      <td>-0.003478</td>\n",
       "      <td>0.004396</td>\n",
       "      <td>0.018680</td>\n",
       "      <td>-0.018680</td>\n",
       "      <td>-0.143785</td>\n",
       "    </tr>\n",
       "    <tr>\n",
       "      <th>CarryAway</th>\n",
       "      <td>-0.008737</td>\n",
       "      <td>-0.012102</td>\n",
       "      <td>-0.042518</td>\n",
       "      <td>-0.037258</td>\n",
       "      <td>-0.003347</td>\n",
       "      <td>-0.000724</td>\n",
       "      <td>-0.028324</td>\n",
       "      <td>0.084913</td>\n",
       "      <td>-0.027383</td>\n",
       "      <td>0.003178</td>\n",
       "      <td>0.025289</td>\n",
       "      <td>-0.022381</td>\n",
       "      <td>0.045824</td>\n",
       "      <td>0.071162</td>\n",
       "      <td>0.111711</td>\n",
       "      <td>1.000000</td>\n",
       "      <td>0.062785</td>\n",
       "      <td>0.115906</td>\n",
       "      <td>NaN</td>\n",
       "      <td>0.003843</td>\n",
       "      <td>0.005244</td>\n",
       "      <td>0.006728</td>\n",
       "      <td>-0.006728</td>\n",
       "      <td>-0.044584</td>\n",
       "    </tr>\n",
       "    <tr>\n",
       "      <th>RestaurantLessThan20</th>\n",
       "      <td>0.003977</td>\n",
       "      <td>-0.032815</td>\n",
       "      <td>-0.002720</td>\n",
       "      <td>0.001875</td>\n",
       "      <td>0.010794</td>\n",
       "      <td>-0.008636</td>\n",
       "      <td>0.023693</td>\n",
       "      <td>-0.037672</td>\n",
       "      <td>-0.002230</td>\n",
       "      <td>-0.065760</td>\n",
       "      <td>0.022702</td>\n",
       "      <td>0.043074</td>\n",
       "      <td>0.051770</td>\n",
       "      <td>0.082617</td>\n",
       "      <td>0.165896</td>\n",
       "      <td>0.062785</td>\n",
       "      <td>1.000000</td>\n",
       "      <td>0.106171</td>\n",
       "      <td>NaN</td>\n",
       "      <td>0.004432</td>\n",
       "      <td>-0.004167</td>\n",
       "      <td>0.001223</td>\n",
       "      <td>-0.001223</td>\n",
       "      <td>-0.004321</td>\n",
       "    </tr>\n",
       "    <tr>\n",
       "      <th>Restaurant20To50</th>\n",
       "      <td>-0.000257</td>\n",
       "      <td>-0.031775</td>\n",
       "      <td>0.006717</td>\n",
       "      <td>0.001413</td>\n",
       "      <td>0.004786</td>\n",
       "      <td>-0.001101</td>\n",
       "      <td>-0.013097</td>\n",
       "      <td>0.002333</td>\n",
       "      <td>0.038973</td>\n",
       "      <td>0.014881</td>\n",
       "      <td>0.093532</td>\n",
       "      <td>0.015281</td>\n",
       "      <td>0.023520</td>\n",
       "      <td>0.170417</td>\n",
       "      <td>0.136144</td>\n",
       "      <td>0.115906</td>\n",
       "      <td>0.106171</td>\n",
       "      <td>1.000000</td>\n",
       "      <td>NaN</td>\n",
       "      <td>0.001372</td>\n",
       "      <td>0.008462</td>\n",
       "      <td>0.007104</td>\n",
       "      <td>-0.007104</td>\n",
       "      <td>-0.058040</td>\n",
       "    </tr>\n",
       "    <tr>\n",
       "      <th>toCoupon_GEQ5min</th>\n",
       "      <td>NaN</td>\n",
       "      <td>NaN</td>\n",
       "      <td>NaN</td>\n",
       "      <td>NaN</td>\n",
       "      <td>NaN</td>\n",
       "      <td>NaN</td>\n",
       "      <td>NaN</td>\n",
       "      <td>NaN</td>\n",
       "      <td>NaN</td>\n",
       "      <td>NaN</td>\n",
       "      <td>NaN</td>\n",
       "      <td>NaN</td>\n",
       "      <td>NaN</td>\n",
       "      <td>NaN</td>\n",
       "      <td>NaN</td>\n",
       "      <td>NaN</td>\n",
       "      <td>NaN</td>\n",
       "      <td>NaN</td>\n",
       "      <td>NaN</td>\n",
       "      <td>NaN</td>\n",
       "      <td>NaN</td>\n",
       "      <td>NaN</td>\n",
       "      <td>NaN</td>\n",
       "      <td>NaN</td>\n",
       "    </tr>\n",
       "    <tr>\n",
       "      <th>toCoupon_GEQ15min</th>\n",
       "      <td>0.142924</td>\n",
       "      <td>0.063373</td>\n",
       "      <td>-0.122025</td>\n",
       "      <td>-0.155876</td>\n",
       "      <td>-0.131775</td>\n",
       "      <td>0.043305</td>\n",
       "      <td>-0.005336</td>\n",
       "      <td>0.029525</td>\n",
       "      <td>-0.051142</td>\n",
       "      <td>0.079735</td>\n",
       "      <td>-0.020142</td>\n",
       "      <td>-0.025832</td>\n",
       "      <td>0.007426</td>\n",
       "      <td>0.024830</td>\n",
       "      <td>-0.003478</td>\n",
       "      <td>0.003843</td>\n",
       "      <td>0.004432</td>\n",
       "      <td>0.001372</td>\n",
       "      <td>NaN</td>\n",
       "      <td>1.000000</td>\n",
       "      <td>0.325558</td>\n",
       "      <td>-0.305952</td>\n",
       "      <td>0.305952</td>\n",
       "      <td>-0.081711</td>\n",
       "    </tr>\n",
       "    <tr>\n",
       "      <th>toCoupon_GEQ25min</th>\n",
       "      <td>0.197935</td>\n",
       "      <td>-0.196917</td>\n",
       "      <td>-0.202372</td>\n",
       "      <td>-0.215780</td>\n",
       "      <td>-0.112877</td>\n",
       "      <td>-0.032396</td>\n",
       "      <td>0.002575</td>\n",
       "      <td>-0.000625</td>\n",
       "      <td>0.006106</td>\n",
       "      <td>-0.014038</td>\n",
       "      <td>-0.010472</td>\n",
       "      <td>0.009317</td>\n",
       "      <td>0.003913</td>\n",
       "      <td>0.006992</td>\n",
       "      <td>0.004396</td>\n",
       "      <td>0.005244</td>\n",
       "      <td>-0.004167</td>\n",
       "      <td>0.008462</td>\n",
       "      <td>NaN</td>\n",
       "      <td>0.325558</td>\n",
       "      <td>1.000000</td>\n",
       "      <td>-0.192784</td>\n",
       "      <td>0.192784</td>\n",
       "      <td>-0.100542</td>\n",
       "    </tr>\n",
       "    <tr>\n",
       "      <th>direction_same</th>\n",
       "      <td>-0.084386</td>\n",
       "      <td>-0.267905</td>\n",
       "      <td>0.017196</td>\n",
       "      <td>0.097539</td>\n",
       "      <td>-0.073228</td>\n",
       "      <td>0.034709</td>\n",
       "      <td>-0.005313</td>\n",
       "      <td>-0.011535</td>\n",
       "      <td>0.017098</td>\n",
       "      <td>-0.033047</td>\n",
       "      <td>0.002033</td>\n",
       "      <td>0.031075</td>\n",
       "      <td>0.018771</td>\n",
       "      <td>-0.001931</td>\n",
       "      <td>0.018680</td>\n",
       "      <td>0.006728</td>\n",
       "      <td>0.001223</td>\n",
       "      <td>0.007104</td>\n",
       "      <td>NaN</td>\n",
       "      <td>-0.305952</td>\n",
       "      <td>-0.192784</td>\n",
       "      <td>1.000000</td>\n",
       "      <td>-1.000000</td>\n",
       "      <td>0.014361</td>\n",
       "    </tr>\n",
       "    <tr>\n",
       "      <th>direction_opp</th>\n",
       "      <td>0.084386</td>\n",
       "      <td>0.267905</td>\n",
       "      <td>-0.017196</td>\n",
       "      <td>-0.097539</td>\n",
       "      <td>0.073228</td>\n",
       "      <td>-0.034709</td>\n",
       "      <td>0.005313</td>\n",
       "      <td>0.011535</td>\n",
       "      <td>-0.017098</td>\n",
       "      <td>0.033047</td>\n",
       "      <td>-0.002033</td>\n",
       "      <td>-0.031075</td>\n",
       "      <td>-0.018771</td>\n",
       "      <td>0.001931</td>\n",
       "      <td>-0.018680</td>\n",
       "      <td>-0.006728</td>\n",
       "      <td>-0.001223</td>\n",
       "      <td>-0.007104</td>\n",
       "      <td>NaN</td>\n",
       "      <td>0.305952</td>\n",
       "      <td>0.192784</td>\n",
       "      <td>-1.000000</td>\n",
       "      <td>1.000000</td>\n",
       "      <td>-0.014361</td>\n",
       "    </tr>\n",
       "    <tr>\n",
       "      <th>Accept(Y/N?)</th>\n",
       "      <td>-0.002180</td>\n",
       "      <td>0.049525</td>\n",
       "      <td>0.097774</td>\n",
       "      <td>0.056646</td>\n",
       "      <td>0.097371</td>\n",
       "      <td>-0.133131</td>\n",
       "      <td>0.045261</td>\n",
       "      <td>-0.035941</td>\n",
       "      <td>0.024728</td>\n",
       "      <td>-0.048333</td>\n",
       "      <td>0.039059</td>\n",
       "      <td>0.004693</td>\n",
       "      <td>-0.027691</td>\n",
       "      <td>-0.079654</td>\n",
       "      <td>-0.143785</td>\n",
       "      <td>-0.044584</td>\n",
       "      <td>-0.004321</td>\n",
       "      <td>-0.058040</td>\n",
       "      <td>NaN</td>\n",
       "      <td>-0.081711</td>\n",
       "      <td>-0.100542</td>\n",
       "      <td>0.014361</td>\n",
       "      <td>-0.014361</td>\n",
       "      <td>1.000000</td>\n",
       "    </tr>\n",
       "  </tbody>\n",
       "</table>\n",
       "</div>"
      ],
      "text/plain": [
       "                      destination  passanger   weather  temperature    coupon  \\\n",
       "destination              1.000000  -0.118443 -0.077001    -0.027634 -0.011395   \n",
       "passanger               -0.118443   1.000000  0.058399     0.054724  0.018187   \n",
       "weather                 -0.077001   0.058399  1.000000     0.434394  0.146914   \n",
       "temperature             -0.027634   0.054724  0.434394     1.000000  0.127679   \n",
       "coupon                  -0.011395   0.018187  0.146914     0.127679  1.000000   \n",
       "expiration              -0.031925   0.072136  0.018267     0.125889  0.147818   \n",
       "gender                   0.007382  -0.023610 -0.026548    -0.027557  0.008070   \n",
       "age                     -0.000464   0.010460 -0.016652    -0.025723  0.003189   \n",
       "maritalStatus            0.001540  -0.020086 -0.020392    -0.000149  0.000045   \n",
       "has_children            -0.006177   0.038486  0.011912    -0.020674 -0.009504   \n",
       "education                0.007745   0.001726  0.007230     0.009118 -0.001143   \n",
       "occupation              -0.009348  -0.058621 -0.010054     0.002317 -0.003812   \n",
       "income                  -0.014372  -0.003997 -0.034568    -0.028069  0.001648   \n",
       "Bar                     -0.004150   0.014502  0.004322     0.002320 -0.007467   \n",
       "CoffeeHouse             -0.006834  -0.011490 -0.005025     0.008410 -0.003588   \n",
       "CarryAway               -0.008737  -0.012102 -0.042518    -0.037258 -0.003347   \n",
       "RestaurantLessThan20     0.003977  -0.032815 -0.002720     0.001875  0.010794   \n",
       "Restaurant20To50        -0.000257  -0.031775  0.006717     0.001413  0.004786   \n",
       "toCoupon_GEQ5min              NaN        NaN       NaN          NaN       NaN   \n",
       "toCoupon_GEQ15min        0.142924   0.063373 -0.122025    -0.155876 -0.131775   \n",
       "toCoupon_GEQ25min        0.197935  -0.196917 -0.202372    -0.215780 -0.112877   \n",
       "direction_same          -0.084386  -0.267905  0.017196     0.097539 -0.073228   \n",
       "direction_opp            0.084386   0.267905 -0.017196    -0.097539  0.073228   \n",
       "Accept(Y/N?)            -0.002180   0.049525  0.097774     0.056646  0.097371   \n",
       "\n",
       "                      expiration    gender       age  maritalStatus  \\\n",
       "destination            -0.031925  0.007382 -0.000464       0.001540   \n",
       "passanger               0.072136 -0.023610  0.010460      -0.020086   \n",
       "weather                 0.018267 -0.026548 -0.016652      -0.020392   \n",
       "temperature             0.125889 -0.027557 -0.025723      -0.000149   \n",
       "coupon                  0.147818  0.008070  0.003189       0.000045   \n",
       "expiration              1.000000  0.002247  0.008196      -0.012848   \n",
       "gender                  0.002247  1.000000 -0.064570       0.071326   \n",
       "age                     0.008196 -0.064570  1.000000      -0.175481   \n",
       "maritalStatus          -0.012848  0.071326 -0.175481       1.000000   \n",
       "has_children            0.018086 -0.147875  0.310204      -0.450210   \n",
       "education              -0.007777  0.016224  0.082961       0.059545   \n",
       "occupation             -0.017149 -0.008798 -0.023110       0.143548   \n",
       "income                 -0.010977  0.029523  0.049181       0.081589   \n",
       "Bar                    -0.010060 -0.163997  0.207938      -0.114900   \n",
       "CoffeeHouse            -0.014806  0.059527 -0.003742       0.005586   \n",
       "CarryAway              -0.000724 -0.028324  0.084913      -0.027383   \n",
       "RestaurantLessThan20   -0.008636  0.023693 -0.037672      -0.002230   \n",
       "Restaurant20To50       -0.001101 -0.013097  0.002333       0.038973   \n",
       "toCoupon_GEQ5min             NaN       NaN       NaN            NaN   \n",
       "toCoupon_GEQ15min       0.043305 -0.005336  0.029525      -0.051142   \n",
       "toCoupon_GEQ25min      -0.032396  0.002575 -0.000625       0.006106   \n",
       "direction_same          0.034709 -0.005313 -0.011535       0.017098   \n",
       "direction_opp          -0.034709  0.005313  0.011535      -0.017098   \n",
       "Accept(Y/N?)           -0.133131  0.045261 -0.035941       0.024728   \n",
       "\n",
       "                      has_children  education  occupation    income       Bar  \\\n",
       "destination              -0.006177   0.007745   -0.009348 -0.014372 -0.004150   \n",
       "passanger                 0.038486   0.001726   -0.058621 -0.003997  0.014502   \n",
       "weather                   0.011912   0.007230   -0.010054 -0.034568  0.004322   \n",
       "temperature              -0.020674   0.009118    0.002317 -0.028069  0.002320   \n",
       "coupon                   -0.009504  -0.001143   -0.003812  0.001648 -0.007467   \n",
       "expiration                0.018086  -0.007777   -0.017149 -0.010977 -0.010060   \n",
       "gender                   -0.147875   0.016224   -0.008798  0.029523 -0.163997   \n",
       "age                       0.310204   0.082961   -0.023110  0.049181  0.207938   \n",
       "maritalStatus            -0.450210   0.059545    0.143548  0.081589 -0.114900   \n",
       "has_children              1.000000  -0.053878   -0.113337 -0.002491  0.168831   \n",
       "education                -0.053878   1.000000    0.117116 -0.000615  0.039096   \n",
       "occupation               -0.113337   0.117116    1.000000  0.167229  0.034283   \n",
       "income                   -0.002491  -0.000615    0.167229  1.000000  0.009378   \n",
       "Bar                       0.168831   0.039096    0.034283  0.009378  1.000000   \n",
       "CoffeeHouse              -0.018363   0.006448    0.049540 -0.029650  0.152320   \n",
       "CarryAway                 0.003178   0.025289   -0.022381  0.045824  0.071162   \n",
       "RestaurantLessThan20     -0.065760   0.022702    0.043074  0.051770  0.082617   \n",
       "Restaurant20To50          0.014881   0.093532    0.015281  0.023520  0.170417   \n",
       "toCoupon_GEQ5min               NaN        NaN         NaN       NaN       NaN   \n",
       "toCoupon_GEQ15min         0.079735  -0.020142   -0.025832  0.007426  0.024830   \n",
       "toCoupon_GEQ25min        -0.014038  -0.010472    0.009317  0.003913  0.006992   \n",
       "direction_same           -0.033047   0.002033    0.031075  0.018771 -0.001931   \n",
       "direction_opp             0.033047  -0.002033   -0.031075 -0.018771  0.001931   \n",
       "Accept(Y/N?)             -0.048333   0.039059    0.004693 -0.027691 -0.079654   \n",
       "\n",
       "                      CoffeeHouse  CarryAway  RestaurantLessThan20  \\\n",
       "destination             -0.006834  -0.008737              0.003977   \n",
       "passanger               -0.011490  -0.012102             -0.032815   \n",
       "weather                 -0.005025  -0.042518             -0.002720   \n",
       "temperature              0.008410  -0.037258              0.001875   \n",
       "coupon                  -0.003588  -0.003347              0.010794   \n",
       "expiration              -0.014806  -0.000724             -0.008636   \n",
       "gender                   0.059527  -0.028324              0.023693   \n",
       "age                     -0.003742   0.084913             -0.037672   \n",
       "maritalStatus            0.005586  -0.027383             -0.002230   \n",
       "has_children            -0.018363   0.003178             -0.065760   \n",
       "education                0.006448   0.025289              0.022702   \n",
       "occupation               0.049540  -0.022381              0.043074   \n",
       "income                  -0.029650   0.045824              0.051770   \n",
       "Bar                      0.152320   0.071162              0.082617   \n",
       "CoffeeHouse              1.000000   0.111711              0.165896   \n",
       "CarryAway                0.111711   1.000000              0.062785   \n",
       "RestaurantLessThan20     0.165896   0.062785              1.000000   \n",
       "Restaurant20To50         0.136144   0.115906              0.106171   \n",
       "toCoupon_GEQ5min              NaN        NaN                   NaN   \n",
       "toCoupon_GEQ15min       -0.003478   0.003843              0.004432   \n",
       "toCoupon_GEQ25min        0.004396   0.005244             -0.004167   \n",
       "direction_same           0.018680   0.006728              0.001223   \n",
       "direction_opp           -0.018680  -0.006728             -0.001223   \n",
       "Accept(Y/N?)            -0.143785  -0.044584             -0.004321   \n",
       "\n",
       "                      Restaurant20To50  toCoupon_GEQ5min  toCoupon_GEQ15min  \\\n",
       "destination                  -0.000257               NaN           0.142924   \n",
       "passanger                    -0.031775               NaN           0.063373   \n",
       "weather                       0.006717               NaN          -0.122025   \n",
       "temperature                   0.001413               NaN          -0.155876   \n",
       "coupon                        0.004786               NaN          -0.131775   \n",
       "expiration                   -0.001101               NaN           0.043305   \n",
       "gender                       -0.013097               NaN          -0.005336   \n",
       "age                           0.002333               NaN           0.029525   \n",
       "maritalStatus                 0.038973               NaN          -0.051142   \n",
       "has_children                  0.014881               NaN           0.079735   \n",
       "education                     0.093532               NaN          -0.020142   \n",
       "occupation                    0.015281               NaN          -0.025832   \n",
       "income                        0.023520               NaN           0.007426   \n",
       "Bar                           0.170417               NaN           0.024830   \n",
       "CoffeeHouse                   0.136144               NaN          -0.003478   \n",
       "CarryAway                     0.115906               NaN           0.003843   \n",
       "RestaurantLessThan20          0.106171               NaN           0.004432   \n",
       "Restaurant20To50              1.000000               NaN           0.001372   \n",
       "toCoupon_GEQ5min                   NaN               NaN                NaN   \n",
       "toCoupon_GEQ15min             0.001372               NaN           1.000000   \n",
       "toCoupon_GEQ25min             0.008462               NaN           0.325558   \n",
       "direction_same                0.007104               NaN          -0.305952   \n",
       "direction_opp                -0.007104               NaN           0.305952   \n",
       "Accept(Y/N?)                 -0.058040               NaN          -0.081711   \n",
       "\n",
       "                      toCoupon_GEQ25min  direction_same  direction_opp  \\\n",
       "destination                    0.197935       -0.084386       0.084386   \n",
       "passanger                     -0.196917       -0.267905       0.267905   \n",
       "weather                       -0.202372        0.017196      -0.017196   \n",
       "temperature                   -0.215780        0.097539      -0.097539   \n",
       "coupon                        -0.112877       -0.073228       0.073228   \n",
       "expiration                    -0.032396        0.034709      -0.034709   \n",
       "gender                         0.002575       -0.005313       0.005313   \n",
       "age                           -0.000625       -0.011535       0.011535   \n",
       "maritalStatus                  0.006106        0.017098      -0.017098   \n",
       "has_children                  -0.014038       -0.033047       0.033047   \n",
       "education                     -0.010472        0.002033      -0.002033   \n",
       "occupation                     0.009317        0.031075      -0.031075   \n",
       "income                         0.003913        0.018771      -0.018771   \n",
       "Bar                            0.006992       -0.001931       0.001931   \n",
       "CoffeeHouse                    0.004396        0.018680      -0.018680   \n",
       "CarryAway                      0.005244        0.006728      -0.006728   \n",
       "RestaurantLessThan20          -0.004167        0.001223      -0.001223   \n",
       "Restaurant20To50               0.008462        0.007104      -0.007104   \n",
       "toCoupon_GEQ5min                    NaN             NaN            NaN   \n",
       "toCoupon_GEQ15min              0.325558       -0.305952       0.305952   \n",
       "toCoupon_GEQ25min              1.000000       -0.192784       0.192784   \n",
       "direction_same                -0.192784        1.000000      -1.000000   \n",
       "direction_opp                  0.192784       -1.000000       1.000000   \n",
       "Accept(Y/N?)                  -0.100542        0.014361      -0.014361   \n",
       "\n",
       "                      Accept(Y/N?)  \n",
       "destination              -0.002180  \n",
       "passanger                 0.049525  \n",
       "weather                   0.097774  \n",
       "temperature               0.056646  \n",
       "coupon                    0.097371  \n",
       "expiration               -0.133131  \n",
       "gender                    0.045261  \n",
       "age                      -0.035941  \n",
       "maritalStatus             0.024728  \n",
       "has_children             -0.048333  \n",
       "education                 0.039059  \n",
       "occupation                0.004693  \n",
       "income                   -0.027691  \n",
       "Bar                      -0.079654  \n",
       "CoffeeHouse              -0.143785  \n",
       "CarryAway                -0.044584  \n",
       "RestaurantLessThan20     -0.004321  \n",
       "Restaurant20To50         -0.058040  \n",
       "toCoupon_GEQ5min               NaN  \n",
       "toCoupon_GEQ15min        -0.081711  \n",
       "toCoupon_GEQ25min        -0.100542  \n",
       "direction_same            0.014361  \n",
       "direction_opp            -0.014361  \n",
       "Accept(Y/N?)              1.000000  "
      ]
     },
     "execution_count": 34,
     "metadata": {},
     "output_type": "execute_result"
    }
   ],
   "source": [
    "cor=df.corr()\n",
    "cor"
   ]
  },
  {
   "cell_type": "code",
   "execution_count": 35,
   "id": "cd56020a",
   "metadata": {},
   "outputs": [
    {
     "data": {
      "image/png": "[encoded data removed]",
      "text/plain": [
       "<Figure size 1440x1080 with 2 Axes>"
      ]
     },
     "metadata": {
      "needs_background": "light"
     },
     "output_type": "display_data"
    }
   ],
   "source": [
    "import numpy as np\n",
    "# Visualizing the correlation matrix by plotting heatmap\n",
    "mask = np.triu(np.ones_like(df.corr(), dtype=bool))\n",
    "fig, ax = plt.subplots(figsize=(20, 15))\n",
    "sns.heatmap(df.corr(), mask=mask, cmap='inferno_r', annot=True, fmt=\".1g\", linewidths=0.1, ax=ax,linecolor=\"black\")\n",
    "plt.yticks(rotation=0);\n",
    "plt.show()"
   ]
  },
  {
   "cell_type": "code",
   "execution_count": 36,
   "id": "1256533e",
   "metadata": {},
   "outputs": [
    {
     "ename": "SyntaxError",
     "evalue": "invalid syntax (2416373154.py, line 1)",
     "output_type": "error",
     "traceback": [
      "\u001b[1;36m  Input \u001b[1;32mIn [36]\u001b[1;36m\u001b[0m\n\u001b[1;33m    toCoupon_FEQ5min is blank as it has only 1 value\u001b[0m\n\u001b[1;37m                              ^\u001b[0m\n\u001b[1;31mSyntaxError\u001b[0m\u001b[1;31m:\u001b[0m invalid syntax\n"
     ]
    }
   ],
   "source": [
    "#toCoupon_FEQ5min is blank as it has only 1 value "
   ]
  },
  {
   "cell_type": "code",
   "execution_count": 37,
   "id": "f08a52f5",
   "metadata": {},
   "outputs": [],
   "source": [
    "x=df.drop('Accept(Y/N?)', axis=1)\n",
    "y= df['Accept(Y/N?)']"
   ]
  },
  {
   "cell_type": "markdown",
   "id": "1e62879f",
   "metadata": {},
   "source": [
    "## Removing collinearity"
   ]
  },
  {
   "cell_type": "code",
   "execution_count": 38,
   "id": "b8c2724d",
   "metadata": {},
   "outputs": [
    {
     "data": {
      "text/html": [
       "<div>\n",
       "<style scoped>\n",
       "    .dataframe tbody tr th:only-of-type {\n",
       "        vertical-align: middle;\n",
       "    }\n",
       "\n",
       "    .dataframe tbody tr th {\n",
       "        vertical-align: top;\n",
       "    }\n",
       "\n",
       "    .dataframe thead th {\n",
       "        text-align: right;\n",
       "    }\n",
       "</style>\n",
       "<table border=\"1\" class=\"dataframe\">\n",
       "  <thead>\n",
       "    <tr style=\"text-align: right;\">\n",
       "      <th></th>\n",
       "      <th>VIF values</th>\n",
       "      <th>Features</th>\n",
       "    </tr>\n",
       "  </thead>\n",
       "  <tbody>\n",
       "    <tr>\n",
       "      <th>0</th>\n",
       "      <td>1.067101</td>\n",
       "      <td>destination</td>\n",
       "    </tr>\n",
       "    <tr>\n",
       "      <th>1</th>\n",
       "      <td>1.191917</td>\n",
       "      <td>passanger</td>\n",
       "    </tr>\n",
       "    <tr>\n",
       "      <th>2</th>\n",
       "      <td>1.276149</td>\n",
       "      <td>weather</td>\n",
       "    </tr>\n",
       "    <tr>\n",
       "      <th>3</th>\n",
       "      <td>1.301551</td>\n",
       "      <td>temperature</td>\n",
       "    </tr>\n",
       "    <tr>\n",
       "      <th>4</th>\n",
       "      <td>1.087785</td>\n",
       "      <td>coupon</td>\n",
       "    </tr>\n",
       "    <tr>\n",
       "      <th>5</th>\n",
       "      <td>1.057145</td>\n",
       "      <td>expiration</td>\n",
       "    </tr>\n",
       "    <tr>\n",
       "      <th>6</th>\n",
       "      <td>1.056299</td>\n",
       "      <td>gender</td>\n",
       "    </tr>\n",
       "    <tr>\n",
       "      <th>7</th>\n",
       "      <td>1.166376</td>\n",
       "      <td>age</td>\n",
       "    </tr>\n",
       "    <tr>\n",
       "      <th>8</th>\n",
       "      <td>1.290328</td>\n",
       "      <td>maritalStatus</td>\n",
       "    </tr>\n",
       "    <tr>\n",
       "      <th>9</th>\n",
       "      <td>1.403537</td>\n",
       "      <td>has_children</td>\n",
       "    </tr>\n",
       "    <tr>\n",
       "      <th>10</th>\n",
       "      <td>1.039553</td>\n",
       "      <td>education</td>\n",
       "    </tr>\n",
       "    <tr>\n",
       "      <th>11</th>\n",
       "      <td>1.076643</td>\n",
       "      <td>occupation</td>\n",
       "    </tr>\n",
       "    <tr>\n",
       "      <th>12</th>\n",
       "      <td>1.050389</td>\n",
       "      <td>income</td>\n",
       "    </tr>\n",
       "    <tr>\n",
       "      <th>13</th>\n",
       "      <td>1.149761</td>\n",
       "      <td>Bar</td>\n",
       "    </tr>\n",
       "    <tr>\n",
       "      <th>14</th>\n",
       "      <td>1.082490</td>\n",
       "      <td>CoffeeHouse</td>\n",
       "    </tr>\n",
       "    <tr>\n",
       "      <th>15</th>\n",
       "      <td>1.041611</td>\n",
       "      <td>CarryAway</td>\n",
       "    </tr>\n",
       "    <tr>\n",
       "      <th>16</th>\n",
       "      <td>1.053688</td>\n",
       "      <td>RestaurantLessThan20</td>\n",
       "    </tr>\n",
       "    <tr>\n",
       "      <th>17</th>\n",
       "      <td>1.074078</td>\n",
       "      <td>Restaurant20To50</td>\n",
       "    </tr>\n",
       "    <tr>\n",
       "      <th>18</th>\n",
       "      <td>0.000000</td>\n",
       "      <td>toCoupon_GEQ5min</td>\n",
       "    </tr>\n",
       "    <tr>\n",
       "      <th>19</th>\n",
       "      <td>1.261311</td>\n",
       "      <td>toCoupon_GEQ15min</td>\n",
       "    </tr>\n",
       "    <tr>\n",
       "      <th>20</th>\n",
       "      <td>1.292458</td>\n",
       "      <td>toCoupon_GEQ25min</td>\n",
       "    </tr>\n",
       "    <tr>\n",
       "      <th>21</th>\n",
       "      <td>inf</td>\n",
       "      <td>direction_same</td>\n",
       "    </tr>\n",
       "    <tr>\n",
       "      <th>22</th>\n",
       "      <td>inf</td>\n",
       "      <td>direction_opp</td>\n",
       "    </tr>\n",
       "  </tbody>\n",
       "</table>\n",
       "</div>"
      ],
      "text/plain": [
       "    VIF values              Features\n",
       "0     1.067101           destination\n",
       "1     1.191917             passanger\n",
       "2     1.276149               weather\n",
       "3     1.301551           temperature\n",
       "4     1.087785                coupon\n",
       "5     1.057145            expiration\n",
       "6     1.056299                gender\n",
       "7     1.166376                   age\n",
       "8     1.290328         maritalStatus\n",
       "9     1.403537          has_children\n",
       "10    1.039553             education\n",
       "11    1.076643            occupation\n",
       "12    1.050389                income\n",
       "13    1.149761                   Bar\n",
       "14    1.082490           CoffeeHouse\n",
       "15    1.041611             CarryAway\n",
       "16    1.053688  RestaurantLessThan20\n",
       "17    1.074078      Restaurant20To50\n",
       "18    0.000000      toCoupon_GEQ5min\n",
       "19    1.261311     toCoupon_GEQ15min\n",
       "20    1.292458     toCoupon_GEQ25min\n",
       "21         inf        direction_same\n",
       "22         inf         direction_opp"
      ]
     },
     "execution_count": 38,
     "metadata": {},
     "output_type": "execute_result"
    }
   ],
   "source": [
    "# Finding VIF in each scaled column i.e x.shape[1]/(1/(1-r2))\n",
    "from statsmodels.stats.outliers_influence import variance_inflation_factor\n",
    "vif=pd.DataFrame()\n",
    "vif['VIF values']=[variance_inflation_factor(x.values,i)for i in range(len(x.columns))]\n",
    "vif['Features']=x.columns\n",
    "\n",
    "\n",
    "vif"
   ]
  },
  {
   "cell_type": "markdown",
   "id": "f7edebf7",
   "metadata": {},
   "source": [
    "We are droping one of these"
   ]
  },
  {
   "cell_type": "code",
   "execution_count": 39,
   "id": "c7f6682f",
   "metadata": {},
   "outputs": [],
   "source": [
    "x.drop('direction_opp',axis=1,inplace=True)"
   ]
  },
  {
   "cell_type": "markdown",
   "id": "e947a64c",
   "metadata": {},
   "source": [
    "we are droping direction_opp because it is showing infinite value"
   ]
  },
  {
   "cell_type": "markdown",
   "id": "4382632c",
   "metadata": {},
   "source": [
    "## Feature selection"
   ]
  },
  {
   "cell_type": "code",
   "execution_count": 40,
   "id": "15eecd10",
   "metadata": {},
   "outputs": [],
   "source": [
    "from sklearn.feature_selection import SelectKBest,f_classif"
   ]
  },
  {
   "cell_type": "code",
   "execution_count": 41,
   "id": "dad9e472",
   "metadata": {},
   "outputs": [
    {
     "name": "stdout",
     "output_type": "stream",
     "text": [
      "            Feature_Name       Score\n",
      "14           CoffeeHouse  254.952636\n",
      "5             expiration  217.912299\n",
      "20     toCoupon_GEQ25min  123.329215\n",
      "2                weather  116.566438\n",
      "4                 coupon  115.600359\n",
      "19     toCoupon_GEQ15min   81.175834\n",
      "13                   Bar   77.114273\n",
      "17      Restaurant20To50   40.820586\n",
      "3            temperature   38.876393\n",
      "1              passanger   29.694826\n",
      "9           has_children   28.278326\n",
      "6                 gender   24.791136\n",
      "15             CarryAway   24.053529\n",
      "10             education   18.452705\n",
      "7                    age   15.620783\n",
      "12                income    9.267779\n",
      "8          maritalStatus    7.389444\n",
      "21        direction_same    2.491275\n",
      "11            occupation    0.265939\n",
      "16  RestaurantLessThan20    0.225517\n",
      "0            destination    0.057370\n",
      "18      toCoupon_GEQ5min         NaN\n"
     ]
    }
   ],
   "source": [
    "best_features = SelectKBest(score_func=f_classif,k=3) # run multiple time and find the best\n",
    "\n",
    "fit=best_features.fit(x,y)\n",
    "\n",
    "df_scores=pd.DataFrame(fit.scores_)\n",
    "\n",
    "df_columns=pd.DataFrame(x.columns)\n",
    "\n",
    "# concatenate dataframe\n",
    "feature_scores=pd.concat([df_columns,df_scores],axis=1)\n",
    "\n",
    "feature_scores.columns=['Feature_Name','Score'] # name output columns\n",
    "print(feature_scores.nlargest(22,'Score')) # print 25 best features"
   ]
  },
  {
   "cell_type": "code",
   "execution_count": 42,
   "id": "860a3caa",
   "metadata": {},
   "outputs": [],
   "source": [
    "x.drop([\"direction_same\",'occupation','RestaurantLessThan20','destination','toCoupon_GEQ5min'], axis=1, inplace= True)"
   ]
  },
  {
   "cell_type": "markdown",
   "id": "8d9c4eba",
   "metadata": {},
   "source": [
    " We are dropping these columns because they were not contributing direction_same,occupation,RestaurantLessThan20,destination,toCoupon_GEQ5min"
   ]
  },
  {
   "cell_type": "code",
   "execution_count": 43,
   "id": "bd5a30e0",
   "metadata": {},
   "outputs": [
    {
     "data": {
      "text/plain": [
       "(12079, 17)"
      ]
     },
     "execution_count": 43,
     "metadata": {},
     "output_type": "execute_result"
    }
   ],
   "source": [
    "x.shape"
   ]
  },
  {
   "cell_type": "markdown",
   "id": "6dfdf5d4",
   "metadata": {},
   "source": [
    "## Oversampeling"
   ]
  },
  {
   "cell_type": "code",
   "execution_count": 44,
   "id": "1036ba49",
   "metadata": {},
   "outputs": [
    {
     "data": {
      "text/plain": [
       "1    6877\n",
       "0    5202\n",
       "Name: Accept(Y/N?), dtype: int64"
      ]
     },
     "execution_count": 44,
     "metadata": {},
     "output_type": "execute_result"
    }
   ],
   "source": [
    "y.value_counts()"
   ]
  },
  {
   "cell_type": "markdown",
   "id": "6edbf94e",
   "metadata": {},
   "source": [
    "Acceptable range 11:9 ratio"
   ]
  },
  {
   "cell_type": "markdown",
   "id": "df7b480e",
   "metadata": {},
   "source": [
    "# Model building"
   ]
  },
  {
   "cell_type": "markdown",
   "id": "03af3925",
   "metadata": {},
   "source": [
    "## Best random state"
   ]
  },
  {
   "cell_type": "code",
   "execution_count": 45,
   "id": "017ca541",
   "metadata": {},
   "outputs": [
    {
     "name": "stdout",
     "output_type": "stream",
     "text": [
      "Best accuracy is 0.6465231788079471 at random_state 198\n"
     ]
    }
   ],
   "source": [
    "from sklearn.model_selection import train_test_split\n",
    "from sklearn.linear_model import LogisticRegression\n",
    "from sklearn.metrics import accuracy_score\n",
    "maxAccu=0\n",
    "maxRS=0\n",
    "for i in range(1,200):\n",
    "    x_train,x_test,y_train,y_test=train_test_split(x,y,test_size=0.30,random_state=i)\n",
    "    LR=LogisticRegression()\n",
    "    LR.fit(x_train,y_train)\n",
    "    pred=LR.predict(x_test)\n",
    "    acc=accuracy_score(y_test,pred)\n",
    "    if acc>maxAccu:\n",
    "        maxAccu=acc\n",
    "        maxRS=i\n",
    "    \n",
    "print(\"Best accuracy is\",maxAccu,\"at random_state\",maxRS)\n",
    "   "
   ]
  },
  {
   "cell_type": "markdown",
   "id": "2231175f",
   "metadata": {},
   "source": [
    "## Train test split"
   ]
  },
  {
   "cell_type": "code",
   "execution_count": 46,
   "id": "78fe6d44",
   "metadata": {},
   "outputs": [],
   "source": [
    " x_train, x_test, y_train, y_test = train_test_split(x, y, test_size=0.30, random_state=maxRS)"
   ]
  },
  {
   "cell_type": "code",
   "execution_count": 53,
   "id": "b1de4e57",
   "metadata": {},
   "outputs": [
    {
     "name": "stdout",
     "output_type": "stream",
     "text": [
      "Collecting xgboost\n",
      "  Downloading xgboost-1.7.6-py3-none-win_amd64.whl (70.9 MB)\n",
      "Requirement already satisfied: scipy in c:\\users\\pappu pelu\\anaconda3\\lib\\site-packages (from xgboost) (1.7.3)\n",
      "Requirement already satisfied: numpy in c:\\users\\pappu pelu\\anaconda3\\lib\\site-packages (from xgboost) (1.21.5)\n",
      "Installing collected packages: xgboost\n",
      "Successfully installed xgboost-1.7.6\n",
      "Note: you may need to restart the kernel to use updated packages.\n"
     ]
    }
   ],
   "source": [
    "pip install xgboost"
   ]
  },
  {
   "cell_type": "code",
   "execution_count": 54,
   "id": "91250168",
   "metadata": {},
   "outputs": [],
   "source": [
    "from sklearn.svm import SVC\n",
    "from sklearn.naive_bayes import GaussianNB\n",
    "from sklearn.linear_model import LogisticRegression\n",
    "#from sklearn.neighbors import KNeighborsClassifier\n",
    "from sklearn.tree import DecisionTreeClassifier\n",
    "from sklearn.ensemble import RandomForestClassifier, GradientBoostingClassifier, AdaBoostClassifier, ExtraTreesClassifier\n",
    "from xgboost import XGBClassifier\n",
    "from sklearn.metrics import accuracy_score, f1_score, recall_score, precision_score, confusion_matrix"
   ]
  },
  {
   "cell_type": "code",
   "execution_count": 55,
   "id": "626b06bf",
   "metadata": {},
   "outputs": [],
   "source": [
    "training_score = []\n",
    "testing_score = []"
   ]
  },
  {
   "cell_type": "code",
   "execution_count": 56,
   "id": "32519d20",
   "metadata": {},
   "outputs": [],
   "source": [
    "def model_prediction(model):\n",
    "    model.fit(x_train,y_train)\n",
    "    x_train_pred = model.predict(x_train)\n",
    "    x_test_pred = model.predict(x_test)\n",
    "    a = accuracy_score(y_train,x_train_pred)*100\n",
    "    b = accuracy_score(y_test,x_test_pred)*100\n",
    "    training_score.append(a)\n",
    "    testing_score.append(b)\n",
    "    \n",
    "    print(f\"Accuracy_Score of {model} model on Training Data is:\",a)\n",
    "    print(f\"Accuracy_Score of {model} model on Testing Data is:\",b)\n",
    "    print(\"\\n------------------------------------------------------------------------\")\n",
    "    print(f\"Precision Score of {model} model is:\",precision_score(y_test,x_test_pred))\n",
    "    print(f\"Recall Score of {model} model is:\",recall_score(y_test,x_test_pred))\n",
    "    print(f\"F1 Score of {model} model is:\",f1_score(y_test,x_test_pred))\n",
    "    print(\"\\n------------------------------------------------------------------------\")\n",
    "    print(f\"Confusion Matrix of {model} model is:\")\n",
    "    cm = confusion_matrix(y_test,x_test_pred)\n",
    "    plt.figure(figsize=(8,4))\n",
    "    sns.heatmap(cm,annot=True,fmt=\"g\",cmap=\"summer\")\n",
    "    plt.show()"
   ]
  },
  {
   "cell_type": "code",
   "execution_count": 57,
   "id": "88e6d598",
   "metadata": {},
   "outputs": [
    {
     "name": "stdout",
     "output_type": "stream",
     "text": [
      "Accuracy_Score of LogisticRegression() model on Training Data is: 62.28267297457126\n",
      "Accuracy_Score of LogisticRegression() model on Testing Data is: 64.65231788079471\n",
      "\n",
      "------------------------------------------------------------------------\n",
      "Precision Score of LogisticRegression() model is: 0.6651712887438825\n",
      "Recall Score of LogisticRegression() model is: 0.7800095648015304\n",
      "F1 Score of LogisticRegression() model is: 0.7180277349768874\n",
      "\n",
      "------------------------------------------------------------------------\n",
      "Confusion Matrix of LogisticRegression() model is:\n"
     ]
    },
    {
     "data": {
      "image/png": "[encoded data removed]",
      "text/plain": [
       "<Figure size 576x288 with 2 Axes>"
      ]
     },
     "metadata": {
      "needs_background": "light"
     },
     "output_type": "display_data"
    }
   ],
   "source": [
    "model_prediction(LogisticRegression())"
   ]
  },
  {
   "cell_type": "code",
   "execution_count": 58,
   "id": "d9238e7b",
   "metadata": {},
   "outputs": [
    {
     "name": "stdout",
     "output_type": "stream",
     "text": [
      "Accuracy_Score of SVC() model on Training Data is: 57.55174452986399\n",
      "Accuracy_Score of SVC() model on Testing Data is: 58.66445916114791\n",
      "\n",
      "------------------------------------------------------------------------\n",
      "Precision Score of SVC() model is: 0.5837807290194971\n",
      "Recall Score of SVC() model is: 0.9880439980870397\n",
      "F1 Score of SVC() model is: 0.7339253996447603\n",
      "\n",
      "------------------------------------------------------------------------\n",
      "Confusion Matrix of SVC() model is:\n"
     ]
    },
    {
     "data": {
      "image/png": "[encoded data removed]",
      "text/plain": [
       "<Figure size 576x288 with 2 Axes>"
      ]
     },
     "metadata": {
      "needs_background": "light"
     },
     "output_type": "display_data"
    }
   ],
   "source": [
    "model_prediction(SVC())"
   ]
  },
  {
   "cell_type": "code",
   "execution_count": 59,
   "id": "a2c28f8a",
   "metadata": {},
   "outputs": [
    {
     "name": "stdout",
     "output_type": "stream",
     "text": [
      "Accuracy_Score of DecisionTreeClassifier() model on Training Data is: 98.5097575399172\n",
      "Accuracy_Score of DecisionTreeClassifier() model on Testing Data is: 68.01876379690948\n",
      "\n",
      "------------------------------------------------------------------------\n",
      "Precision Score of DecisionTreeClassifier() model is: 0.7297830374753451\n",
      "Recall Score of DecisionTreeClassifier() model is: 0.7077953132472501\n",
      "F1 Score of DecisionTreeClassifier() model is: 0.7186210245205147\n",
      "\n",
      "------------------------------------------------------------------------\n",
      "Confusion Matrix of DecisionTreeClassifier() model is:\n"
     ]
    },
    {
     "data": {
      "image/png": "[encoded data removed]",
      "text/plain": [
       "<Figure size 576x288 with 2 Axes>"
      ]
     },
     "metadata": {
      "needs_background": "light"
     },
     "output_type": "display_data"
    }
   ],
   "source": [
    "model_prediction(DecisionTreeClassifier())"
   ]
  },
  {
   "cell_type": "code",
   "execution_count": 60,
   "id": "c1dbea83",
   "metadata": {},
   "outputs": [
    {
     "name": "stdout",
     "output_type": "stream",
     "text": [
      "Accuracy_Score of RandomForestClassifier() model on Training Data is: 98.5097575399172\n",
      "Accuracy_Score of RandomForestClassifier() model on Testing Data is: 75.41390728476821\n",
      "\n",
      "------------------------------------------------------------------------\n",
      "Precision Score of RandomForestClassifier() model is: 0.7710027100271003\n",
      "Recall Score of RandomForestClassifier() model is: 0.8163558106169297\n",
      "F1 Score of RandomForestClassifier() model is: 0.7930313588850173\n",
      "\n",
      "------------------------------------------------------------------------\n",
      "Confusion Matrix of RandomForestClassifier() model is:\n"
     ]
    },
    {
     "data": {
      "image/png": "[encoded data removed]",
      "text/plain": [
       "<Figure size 576x288 with 2 Axes>"
      ]
     },
     "metadata": {
      "needs_background": "light"
     },
     "output_type": "display_data"
    }
   ],
   "source": [
    "model_prediction(RandomForestClassifier())"
   ]
  },
  {
   "cell_type": "code",
   "execution_count": 61,
   "id": "5be9ae60",
   "metadata": {},
   "outputs": [
    {
     "name": "stdout",
     "output_type": "stream",
     "text": [
      "Accuracy_Score of ExtraTreesClassifier() model on Training Data is: 98.5097575399172\n",
      "Accuracy_Score of ExtraTreesClassifier() model on Testing Data is: 72.98565121412804\n",
      "\n",
      "------------------------------------------------------------------------\n",
      "Precision Score of ExtraTreesClassifier() model is: 0.7610328638497652\n",
      "Recall Score of ExtraTreesClassifier() model is: 0.7752271640363463\n",
      "F1 Score of ExtraTreesClassifier() model is: 0.7680644397062306\n",
      "\n",
      "------------------------------------------------------------------------\n",
      "Confusion Matrix of ExtraTreesClassifier() model is:\n"
     ]
    },
    {
     "data": {
      "image/png": "[encoded data removed]",
      "text/plain": [
       "<Figure size 576x288 with 2 Axes>"
      ]
     },
     "metadata": {
      "needs_background": "light"
     },
     "output_type": "display_data"
    }
   ],
   "source": [
    "model_prediction(ExtraTreesClassifier())"
   ]
  },
  {
   "cell_type": "code",
   "execution_count": 62,
   "id": "20e3d373",
   "metadata": {},
   "outputs": [
    {
     "name": "stdout",
     "output_type": "stream",
     "text": [
      "Accuracy_Score of AdaBoostClassifier() model on Training Data is: 67.95978710822\n",
      "Accuracy_Score of AdaBoostClassifier() model on Testing Data is: 68.70860927152319\n",
      "\n",
      "------------------------------------------------------------------------\n",
      "Precision Score of AdaBoostClassifier() model is: 0.7105147382314122\n",
      "Recall Score of AdaBoostClassifier() model is: 0.7723577235772358\n",
      "F1 Score of AdaBoostClassifier() model is: 0.7401466544454628\n",
      "\n",
      "------------------------------------------------------------------------\n",
      "Confusion Matrix of AdaBoostClassifier() model is:\n"
     ]
    },
    {
     "data": {
      "image/png": "[encoded data removed]",
      "text/plain": [
       "<Figure size 576x288 with 2 Axes>"
      ]
     },
     "metadata": {
      "needs_background": "light"
     },
     "output_type": "display_data"
    }
   ],
   "source": [
    "model_prediction(AdaBoostClassifier())"
   ]
  },
  {
   "cell_type": "code",
   "execution_count": 63,
   "id": "57522c9d",
   "metadata": {},
   "outputs": [
    {
     "name": "stdout",
     "output_type": "stream",
     "text": [
      "Accuracy_Score of GradientBoostingClassifier() model on Training Data is: 73.32939089296275\n",
      "Accuracy_Score of GradientBoostingClassifier() model on Testing Data is: 71.96467991169978\n",
      "\n",
      "------------------------------------------------------------------------\n",
      "Precision Score of GradientBoostingClassifier() model is: 0.7249895353704479\n",
      "Recall Score of GradientBoostingClassifier() model is: 0.8283118125298901\n",
      "F1 Score of GradientBoostingClassifier() model is: 0.7732142857142856\n",
      "\n",
      "------------------------------------------------------------------------\n",
      "Confusion Matrix of GradientBoostingClassifier() model is:\n"
     ]
    },
    {
     "data": {
      "image/png": "[encoded data removed]",
      "text/plain": [
       "<Figure size 576x288 with 2 Axes>"
      ]
     },
     "metadata": {
      "needs_background": "light"
     },
     "output_type": "display_data"
    }
   ],
   "source": [
    "model_prediction(GradientBoostingClassifier())"
   ]
  },
  {
   "cell_type": "code",
   "execution_count": 64,
   "id": "e14612e0",
   "metadata": {},
   "outputs": [
    {
     "name": "stdout",
     "output_type": "stream",
     "text": [
      "Accuracy_Score of XGBClassifier(base_score=None, booster=None, callbacks=None,\n",
      "              colsample_bylevel=None, colsample_bynode=None,\n",
      "              colsample_bytree=None, early_stopping_rounds=None,\n",
      "              enable_categorical=False, eval_metric=None, feature_types=None,\n",
      "              gamma=None, gpu_id=None, grow_policy=None, importance_type=None,\n",
      "              interaction_constraints=None, learning_rate=None, max_bin=None,\n",
      "              max_cat_threshold=None, max_cat_to_onehot=None,\n",
      "              max_delta_step=None, max_depth=None, max_leaves=None,\n",
      "              min_child_weight=None, missing=nan, monotone_constraints=None,\n",
      "              n_estimators=100, n_jobs=None, num_parallel_tree=None,\n",
      "              predictor=None, random_state=None, ...) model on Training Data is: 91.20047309284448\n",
      "Accuracy_Score of XGBClassifier(base_score=None, booster=None, callbacks=None,\n",
      "              colsample_bylevel=None, colsample_bynode=None,\n",
      "              colsample_bytree=None, early_stopping_rounds=None,\n",
      "              enable_categorical=False, eval_metric=None, feature_types=None,\n",
      "              gamma=None, gpu_id=None, grow_policy=None, importance_type=None,\n",
      "              interaction_constraints=None, learning_rate=None, max_bin=None,\n",
      "              max_cat_threshold=None, max_cat_to_onehot=None,\n",
      "              max_delta_step=None, max_depth=None, max_leaves=None,\n",
      "              min_child_weight=None, missing=nan, monotone_constraints=None,\n",
      "              n_estimators=100, n_jobs=None, num_parallel_tree=None,\n",
      "              predictor=None, random_state=None, ...) model on Testing Data is: 75.33112582781457\n",
      "\n",
      "------------------------------------------------------------------------\n",
      "Precision Score of XGBClassifier(base_score=None, booster=None, callbacks=None,\n",
      "              colsample_bylevel=None, colsample_bynode=None,\n",
      "              colsample_bytree=None, early_stopping_rounds=None,\n",
      "              enable_categorical=False, eval_metric=None, feature_types=None,\n",
      "              gamma=None, gpu_id=None, grow_policy=None, importance_type=None,\n",
      "              interaction_constraints=None, learning_rate=None, max_bin=None,\n",
      "              max_cat_threshold=None, max_cat_to_onehot=None,\n",
      "              max_delta_step=None, max_depth=None, max_leaves=None,\n",
      "              min_child_weight=None, missing=nan, monotone_constraints=None,\n",
      "              n_estimators=100, n_jobs=None, num_parallel_tree=None,\n",
      "              predictor=None, random_state=None, ...) model is: 0.7744154057771664\n",
      "Recall Score of XGBClassifier(base_score=None, booster=None, callbacks=None,\n",
      "              colsample_bylevel=None, colsample_bynode=None,\n",
      "              colsample_bytree=None, early_stopping_rounds=None,\n",
      "              enable_categorical=False, eval_metric=None, feature_types=None,\n",
      "              gamma=None, gpu_id=None, grow_policy=None, importance_type=None,\n",
      "              interaction_constraints=None, learning_rate=None, max_bin=None,\n",
      "              max_cat_threshold=None, max_cat_to_onehot=None,\n",
      "              max_delta_step=None, max_depth=None, max_leaves=None,\n",
      "              min_child_weight=None, missing=nan, monotone_constraints=None,\n",
      "              n_estimators=100, n_jobs=None, num_parallel_tree=None,\n",
      "              predictor=None, random_state=None, ...) model is: 0.8077474892395983\n",
      "F1 Score of XGBClassifier(base_score=None, booster=None, callbacks=None,\n",
      "              colsample_bylevel=None, colsample_bynode=None,\n",
      "              colsample_bytree=None, early_stopping_rounds=None,\n",
      "              enable_categorical=False, eval_metric=None, feature_types=None,\n",
      "              gamma=None, gpu_id=None, grow_policy=None, importance_type=None,\n",
      "              interaction_constraints=None, learning_rate=None, max_bin=None,\n",
      "              max_cat_threshold=None, max_cat_to_onehot=None,\n",
      "              max_delta_step=None, max_depth=None, max_leaves=None,\n",
      "              min_child_weight=None, missing=nan, monotone_constraints=None,\n",
      "              n_estimators=100, n_jobs=None, num_parallel_tree=None,\n",
      "              predictor=None, random_state=None, ...) model is: 0.7907303370786517\n",
      "\n",
      "------------------------------------------------------------------------\n",
      "Confusion Matrix of XGBClassifier(base_score=None, booster=None, callbacks=None,\n",
      "              colsample_bylevel=None, colsample_bynode=None,\n",
      "              colsample_bytree=None, early_stopping_rounds=None,\n",
      "              enable_categorical=False, eval_metric=None, feature_types=None,\n",
      "              gamma=None, gpu_id=None, grow_policy=None, importance_type=None,\n",
      "              interaction_constraints=None, learning_rate=None, max_bin=None,\n",
      "              max_cat_threshold=None, max_cat_to_onehot=None,\n",
      "              max_delta_step=None, max_depth=None, max_leaves=None,\n",
      "              min_child_weight=None, missing=nan, monotone_constraints=None,\n",
      "              n_estimators=100, n_jobs=None, num_parallel_tree=None,\n",
      "              predictor=None, random_state=None, ...) model is:\n"
     ]
    },
    {
     "data": {
      "image/png": "[encoded data removed]",
      "text/plain": [
       "<Figure size 576x288 with 2 Axes>"
      ]
     },
     "metadata": {
      "needs_background": "light"
     },
     "output_type": "display_data"
    }
   ],
   "source": [
    "model_prediction(XGBClassifier())"
   ]
  },
  {
   "cell_type": "code",
   "execution_count": 65,
   "id": "038ae7ff",
   "metadata": {},
   "outputs": [],
   "source": [
    "models = [\"Logistic Regression\",\"SVM\",\"Decision Tree\",\"Random Forest\",\"Extra Tree\",\"Ada Boost\",\n",
    "          \"Gradient Boost\",\"XGBoost\"]"
   ]
  },
  {
   "cell_type": "code",
   "execution_count": 66,
   "id": "e2a042d8",
   "metadata": {},
   "outputs": [],
   "source": [
    "df3 = pd.DataFrame({\"Algorithms\":models,\n",
    "                   \"Training Score\":training_score,\n",
    "                   \"Testing Score\":testing_score})"
   ]
  },
  {
   "cell_type": "code",
   "execution_count": 67,
   "id": "5c6ad9ac",
   "metadata": {},
   "outputs": [
    {
     "data": {
      "text/html": [
       "<div>\n",
       "<style scoped>\n",
       "    .dataframe tbody tr th:only-of-type {\n",
       "        vertical-align: middle;\n",
       "    }\n",
       "\n",
       "    .dataframe tbody tr th {\n",
       "        vertical-align: top;\n",
       "    }\n",
       "\n",
       "    .dataframe thead th {\n",
       "        text-align: right;\n",
       "    }\n",
       "</style>\n",
       "<table border=\"1\" class=\"dataframe\">\n",
       "  <thead>\n",
       "    <tr style=\"text-align: right;\">\n",
       "      <th></th>\n",
       "      <th>Algorithms</th>\n",
       "      <th>Training Score</th>\n",
       "      <th>Testing Score</th>\n",
       "    </tr>\n",
       "  </thead>\n",
       "  <tbody>\n",
       "    <tr>\n",
       "      <th>0</th>\n",
       "      <td>Logistic Regression</td>\n",
       "      <td>62.282673</td>\n",
       "      <td>64.652318</td>\n",
       "    </tr>\n",
       "    <tr>\n",
       "      <th>1</th>\n",
       "      <td>SVM</td>\n",
       "      <td>57.551745</td>\n",
       "      <td>58.664459</td>\n",
       "    </tr>\n",
       "    <tr>\n",
       "      <th>2</th>\n",
       "      <td>Decision Tree</td>\n",
       "      <td>98.509758</td>\n",
       "      <td>68.018764</td>\n",
       "    </tr>\n",
       "    <tr>\n",
       "      <th>3</th>\n",
       "      <td>Random Forest</td>\n",
       "      <td>98.509758</td>\n",
       "      <td>75.413907</td>\n",
       "    </tr>\n",
       "    <tr>\n",
       "      <th>4</th>\n",
       "      <td>Extra Tree</td>\n",
       "      <td>98.509758</td>\n",
       "      <td>72.985651</td>\n",
       "    </tr>\n",
       "    <tr>\n",
       "      <th>5</th>\n",
       "      <td>Ada Boost</td>\n",
       "      <td>67.959787</td>\n",
       "      <td>68.708609</td>\n",
       "    </tr>\n",
       "    <tr>\n",
       "      <th>6</th>\n",
       "      <td>Gradient Boost</td>\n",
       "      <td>73.329391</td>\n",
       "      <td>71.964680</td>\n",
       "    </tr>\n",
       "    <tr>\n",
       "      <th>7</th>\n",
       "      <td>XGBoost</td>\n",
       "      <td>91.200473</td>\n",
       "      <td>75.331126</td>\n",
       "    </tr>\n",
       "  </tbody>\n",
       "</table>\n",
       "</div>"
      ],
      "text/plain": [
       "            Algorithms  Training Score  Testing Score\n",
       "0  Logistic Regression       62.282673      64.652318\n",
       "1                  SVM       57.551745      58.664459\n",
       "2        Decision Tree       98.509758      68.018764\n",
       "3        Random Forest       98.509758      75.413907\n",
       "4           Extra Tree       98.509758      72.985651\n",
       "5            Ada Boost       67.959787      68.708609\n",
       "6       Gradient Boost       73.329391      71.964680\n",
       "7              XGBoost       91.200473      75.331126"
      ]
     },
     "execution_count": 67,
     "metadata": {},
     "output_type": "execute_result"
    }
   ],
   "source": [
    "df3"
   ]
  },
  {
   "cell_type": "code",
   "execution_count": 68,
   "id": "3aeeb12c",
   "metadata": {},
   "outputs": [
    {
     "data": {
      "image/png": "[encoded data removed]",
      "text/plain": [
       "<Figure size 1152x432 with 1 Axes>"
      ]
     },
     "metadata": {
      "needs_background": "light"
     },
     "output_type": "display_data"
    }
   ],
   "source": [
    "df3.plot(x=\"Algorithms\",y=[\"Training Score\",\"Testing Score\"], figsize=(16,6),kind=\"bar\",\n",
    "        title=\"Performance Visualization of Different Models\",colormap=\"Set1\")\n",
    "plt.show()"
   ]
  },
  {
   "cell_type": "markdown",
   "id": "f35114d9",
   "metadata": {},
   "source": [
    "Random forest and XGboost are showing best testing scores"
   ]
  },
  {
   "cell_type": "markdown",
   "id": "91c54bf4",
   "metadata": {},
   "source": [
    "## Cross Validation"
   ]
  },
  {
   "cell_type": "code",
   "execution_count": 69,
   "id": "c362961f",
   "metadata": {},
   "outputs": [],
   "source": [
    "from sklearn.model_selection import cross_val_score"
   ]
  },
  {
   "cell_type": "markdown",
   "id": "e05ad2c1",
   "metadata": {},
   "source": [
    "## Finding the best CV value"
   ]
  },
  {
   "cell_type": "code",
   "execution_count": 70,
   "id": "dbbbe989",
   "metadata": {},
   "outputs": [
    {
     "name": "stdout",
     "output_type": "stream",
     "text": [
      "        mean       std\n",
      "2   0.604851  0.008560\n",
      "3   0.615033  0.010630\n",
      "4   0.619423  0.017659\n",
      "5   0.619920  0.019330\n",
      "6   0.621656  0.014405\n",
      "7   0.621406  0.023461\n",
      "8   0.620581  0.022087\n",
      "9   0.619339  0.026205\n",
      "10  0.622401  0.025308\n",
      "11  0.618098  0.026379\n",
      "12  0.619668  0.022999\n",
      "13  0.618923  0.027748\n",
      "14  0.619260  0.025342\n",
      "15  0.619749  0.023741\n",
      "16  0.619587  0.028135\n",
      "17  0.621818  0.030552\n",
      "18  0.619671  0.027948\n",
      "19  0.621330  0.030920\n"
     ]
    }
   ],
   "source": [
    "num_folds_range = range(2, 20)\n",
    "\n",
    "model = LogisticRegression()\n",
    "\n",
    "fold_performance = {}\n",
    "\n",
    "for num_folds in num_folds_range:\n",
    "    scores = cross_val_score(model, x, y, cv=num_folds, scoring='accuracy')  # or other classification scoring metrics\n",
    "    fold_performance[num_folds] = {\n",
    "        'mean': np.mean(scores),\n",
    "        'std': np.std(scores)\n",
    "    }\n",
    "\n",
    "df_fold_performance = pd.DataFrame(fold_performance).transpose()\n",
    "\n",
    "print(df_fold_performance)"
   ]
  },
  {
   "cell_type": "markdown",
   "id": "990da5e5",
   "metadata": {},
   "source": [
    "CV value 6 is best tradeoff value"
   ]
  },
  {
   "cell_type": "code",
   "execution_count": 71,
   "id": "a0341bc4",
   "metadata": {},
   "outputs": [
    {
     "name": "stdout",
     "output_type": "stream",
     "text": [
      "[0.63505462 0.63934426 0.61897665 0.59960258 0.60755092 0.62940884]\n",
      "0.6216563127489918\n",
      "0.6465231788079471\n",
      "Differnet between Accuracy score and cross validation score is-  0.024866866058955273\n"
     ]
    }
   ],
   "source": [
    "# checking cv score for logistic Regression\n",
    "score = cross_val_score(LogisticRegression(),x,y,cv=6)\n",
    "print(score)\n",
    "print(score.mean())\n",
    "print(testing_score[0]/100)\n",
    "print(\"Differnet between Accuracy score and cross validation score is- \", (testing_score[0]/100)- score.mean())"
   ]
  },
  {
   "cell_type": "code",
   "execution_count": 72,
   "id": "b93c9b80",
   "metadata": {},
   "outputs": [
    {
     "name": "stdout",
     "output_type": "stream",
     "text": [
      "[0.57447865 0.57277695 0.57128664 0.585693   0.58917039 0.58817685]\n",
      "0.5802637457650724\n",
      "0.5866445916114791\n",
      "Differnet between Accuracy score and cross validation score is-  0.006380845846406635\n"
     ]
    }
   ],
   "source": [
    "# checking cv score for SVC\n",
    "score = cross_val_score(SVC(),x,y,cv=6)\n",
    "print(score)\n",
    "print(score.mean())\n",
    "print(testing_score[1]/100)\n",
    "print(\"Differnet between Accuracy score and cross validation score is- \", (testing_score[1]/100)- score.mean())"
   ]
  },
  {
   "cell_type": "code",
   "execution_count": 73,
   "id": "5ce9cc1e",
   "metadata": {},
   "outputs": [
    {
     "name": "stdout",
     "output_type": "stream",
     "text": [
      "[0.6082423  0.59513164 0.56830601 0.59364133 0.61003477 0.57675112]\n",
      "0.5920178636939996\n",
      "0.6801876379690949\n",
      "Differnet between Accuracy score and cross validation score is-  0.08816977427509531\n"
     ]
    }
   ],
   "source": [
    "# checking cv score for DecisionTreeClassifier\n",
    "score = cross_val_score(DecisionTreeClassifier(),x,y,cv=6)\n",
    "print(score)\n",
    "print(score.mean())\n",
    "print(testing_score[2]/100)\n",
    "print(\"Differnet between Accuracy score and cross validation score is- \", (testing_score[2]/100)- score.mean())"
   ]
  },
  {
   "cell_type": "code",
   "execution_count": 74,
   "id": "6d5b3aa4",
   "metadata": {},
   "outputs": [
    {
     "name": "stdout",
     "output_type": "stream",
     "text": [
      "[0.67527309 0.69249876 0.64133135 0.64530551 0.65871833 0.68852459]\n",
      "0.6669419379791041\n",
      "0.7541390728476821\n",
      "Differnet between Accuracy score and cross validation score is-  0.08719713486857805\n"
     ]
    }
   ],
   "source": [
    "# checking cv score for RandomForestClassifier\n",
    "score = cross_val_score(RandomForestClassifier(),x,y,cv=6)\n",
    "print(score)\n",
    "print(score.mean())\n",
    "print(testing_score[3]/100)\n",
    "print(\"Differnet between Accuracy score and cross validation score is- \", (testing_score[3]/100)- score.mean())"
   ]
  },
  {
   "cell_type": "code",
   "execution_count": 75,
   "id": "a752d441",
   "metadata": {},
   "outputs": [
    {
     "name": "stdout",
     "output_type": "stream",
     "text": [
      "[0.66583913 0.65673125 0.61400894 0.61847988 0.6472926  0.66567312]\n",
      "0.6446708197444845\n",
      "0.7298565121412804\n",
      "Differnet between Accuracy score and cross validation score is-  0.08518569239679596\n"
     ]
    }
   ],
   "source": [
    "# checking cv score for ExtraTreesClassifier\n",
    "score = cross_val_score(ExtraTreesClassifier(),x,y,cv=6)\n",
    "print(score)\n",
    "print(score.mean())\n",
    "print(testing_score[4]/100)\n",
    "print(\"Differnet between Accuracy score and cross validation score is- \", (testing_score[4]/100)- score.mean())"
   ]
  },
  {
   "cell_type": "code",
   "execution_count": 76,
   "id": "037fa7e2",
   "metadata": {},
   "outputs": [
    {
     "name": "stdout",
     "output_type": "stream",
     "text": [
      "[0.65938431 0.68206657 0.67064083 0.64331843 0.65027322 0.68802782]\n",
      "0.6656185308569439\n",
      "0.6870860927152319\n",
      "Differnet between Accuracy score and cross validation score is-  0.02146756185828802\n"
     ]
    }
   ],
   "source": [
    "# checking cv score for AdaBoostClassifier\n",
    "score = cross_val_score(AdaBoostClassifier(),x,y,cv=6)\n",
    "print(score)\n",
    "print(score.mean())\n",
    "print(testing_score[5]/100)\n",
    "print(\"Differnet between Accuracy score and cross validation score is- \", (testing_score[5]/100)- score.mean())"
   ]
  },
  {
   "cell_type": "code",
   "execution_count": 77,
   "id": "64804bdf",
   "metadata": {},
   "outputs": [
    {
     "name": "stdout",
     "output_type": "stream",
     "text": [
      "[0.68123138 0.70839543 0.69299553 0.6815698  0.67113761 0.72031793]\n",
      "0.6926079457376769\n",
      "0.7196467991169978\n",
      "Differnet between Accuracy score and cross validation score is-  0.027038853379320882\n"
     ]
    }
   ],
   "source": [
    "# checking cv score for GradientBoostingClassifier\n",
    "score = cross_val_score(GradientBoostingClassifier(),x,y,cv=6)\n",
    "print(score)\n",
    "print(score.mean())\n",
    "print(testing_score[6]/100)\n",
    "print(\"Differnet between Accuracy score and cross validation score is- \", (testing_score[6]/100)- score.mean())"
   ]
  },
  {
   "cell_type": "code",
   "execution_count": 78,
   "id": "4a2e1d9c",
   "metadata": {},
   "outputs": [
    {
     "name": "stdout",
     "output_type": "stream",
     "text": [
      "[0.67229394 0.67064083 0.64480874 0.6472926  0.65126677 0.68554396]\n",
      "0.6619744747522435\n",
      "0.7533112582781457\n",
      "Differnet between Accuracy score and cross validation score is-  0.09133678352590224\n"
     ]
    }
   ],
   "source": [
    "# checking cv score for XGBClassifier\n",
    "score = cross_val_score(XGBClassifier(),x,y,cv=6)\n",
    "print(score)\n",
    "print(score.mean())\n",
    "print(testing_score[7]/100)\n",
    "print(\"Differnet between Accuracy score and cross validation score is- \", (testing_score[7]/100)- score.mean())"
   ]
  },
  {
   "cell_type": "markdown",
   "id": "bf820488",
   "metadata": {},
   "source": [
    "AdaBoostClassifier,GradientBoostingClassifier, XGBClassifier are best performing model with least difference in score"
   ]
  },
  {
   "cell_type": "markdown",
   "id": "e70e75ba",
   "metadata": {},
   "source": [
    "# Hyperparameter tuning"
   ]
  },
  {
   "cell_type": "code",
   "execution_count": 79,
   "id": "2150fe8b",
   "metadata": {},
   "outputs": [],
   "source": [
    "from sklearn.model_selection import GridSearchCV"
   ]
  },
  {
   "cell_type": "markdown",
   "id": "285577f8",
   "metadata": {},
   "source": [
    "## AdaBoostClassifier"
   ]
  },
  {
   "cell_type": "code",
   "execution_count": 80,
   "id": "44903746",
   "metadata": {},
   "outputs": [
    {
     "data": {
      "text/plain": [
       "0.6706076571723879"
      ]
     },
     "execution_count": 80,
     "metadata": {},
     "output_type": "execute_result"
    }
   ],
   "source": [
    "model1 = AdaBoostClassifier()\n",
    "parameters1 ={'n_estimators':[50,60,100],\n",
    "             'learning_rate':[0.05,0.1,0.2],\n",
    "             'algorithm':['SAMME', 'SAMME.R'],\n",
    "             'random_state':[75,100,150]\n",
    "             }\n",
    "\n",
    "grid_search1 = GridSearchCV(model1, parameters1, cv=3, n_jobs=-1)\n",
    "grid_search1.fit(x_train,y_train)\n",
    "grid_search1.best_score_"
   ]
  },
  {
   "cell_type": "code",
   "execution_count": 81,
   "id": "2594495b",
   "metadata": {},
   "outputs": [
    {
     "data": {
      "text/plain": [
       "{'algorithm': 'SAMME.R',\n",
       " 'learning_rate': 0.2,\n",
       " 'n_estimators': 100,\n",
       " 'random_state': 75}"
      ]
     },
     "execution_count": 81,
     "metadata": {},
     "output_type": "execute_result"
    }
   ],
   "source": [
    "best_parameters1 = grid_search1.best_params_\n",
    "best_parameters1"
   ]
  },
  {
   "cell_type": "code",
   "execution_count": 82,
   "id": "8b65be00",
   "metadata": {},
   "outputs": [],
   "source": [
    "model1=AdaBoostClassifier(algorithm= 'SAMME.R',\n",
    " learning_rate= 0.2,\n",
    " n_estimators= 100,\n",
    " random_state= 75)"
   ]
  },
  {
   "cell_type": "code",
   "execution_count": 83,
   "id": "233e1ab6",
   "metadata": {},
   "outputs": [
    {
     "data": {
      "text/plain": [
       "0.6884657836644592"
      ]
     },
     "execution_count": 83,
     "metadata": {},
     "output_type": "execute_result"
    }
   ],
   "source": [
    "model1.fit(x_train,y_train)\n",
    "\n",
    "x_test_pred1 = model1.predict(x_test)\n",
    "\n",
    "accuracy_score(y_test,x_test_pred1)"
   ]
  },
  {
   "cell_type": "markdown",
   "id": "6795ea8c",
   "metadata": {},
   "source": [
    "## GradientBoostingClassifier"
   ]
  },
  {
   "cell_type": "code",
   "execution_count": 84,
   "id": "642b8463",
   "metadata": {},
   "outputs": [
    {
     "data": {
      "text/plain": [
       "0.7306888810114616"
      ]
     },
     "execution_count": 84,
     "metadata": {},
     "output_type": "execute_result"
    }
   ],
   "source": [
    "model2 = GradientBoostingClassifier()\n",
    "parameters2 ={'loss':['log_loss', 'exponential'],\n",
    "              'learning_rate':[0.05,0.1,0.2],\n",
    "             'n_estimators':[50,100,200],\n",
    "              'min_samples_split':[3,5,6,7,9]\n",
    "             }\n",
    "\n",
    "grid_search2 = GridSearchCV(model2, parameters2, cv=13, n_jobs=-1)\n",
    "grid_search2.fit(x_train,y_train)\n",
    "grid_search2.best_score_"
   ]
  },
  {
   "cell_type": "code",
   "execution_count": 85,
   "id": "672b2a80",
   "metadata": {},
   "outputs": [
    {
     "data": {
      "text/plain": [
       "{'learning_rate': 0.2,\n",
       " 'loss': 'log_loss',\n",
       " 'min_samples_split': 9,\n",
       " 'n_estimators': 200}"
      ]
     },
     "execution_count": 85,
     "metadata": {},
     "output_type": "execute_result"
    }
   ],
   "source": [
    "best_parameters2 = grid_search2.best_params_\n",
    "best_parameters2"
   ]
  },
  {
   "cell_type": "code",
   "execution_count": 86,
   "id": "139c2dd3",
   "metadata": {},
   "outputs": [],
   "source": [
    "model2=GradientBoostingClassifier(min_samples_split= 9,learning_rate= 0.2,loss= 'log_loss',n_estimators= 200)"
   ]
  },
  {
   "cell_type": "code",
   "execution_count": 87,
   "id": "19ac3970",
   "metadata": {},
   "outputs": [
    {
     "data": {
      "text/plain": [
       "0.7320640176600441"
      ]
     },
     "execution_count": 87,
     "metadata": {},
     "output_type": "execute_result"
    }
   ],
   "source": [
    "model2.fit(x_train,y_train)\n",
    "\n",
    "x_test_pred2 = model2.predict(x_test)\n",
    "\n",
    "accuracy_score(y_test,x_test_pred2)"
   ]
  },
  {
   "cell_type": "markdown",
   "id": "16fafdf8",
   "metadata": {},
   "source": [
    "## XGBClassifier"
   ]
  },
  {
   "cell_type": "code",
   "execution_count": 88,
   "id": "fa794fa6",
   "metadata": {},
   "outputs": [],
   "source": [
    "model3=XGBClassifier()"
   ]
  },
  {
   "cell_type": "code",
   "execution_count": 89,
   "id": "0220902f",
   "metadata": {},
   "outputs": [
    {
     "data": {
      "text/plain": [
       "0.720874030849217"
      ]
     },
     "execution_count": 89,
     "metadata": {},
     "output_type": "execute_result"
    }
   ],
   "source": [
    "parameters3 ={'booster':['gbtree', 'gblinear', 'dart'],\n",
    "             'learning_rate':[0.005,.01,.02],\n",
    "             'disable_default_eval_metric':[True,False],\n",
    "             'max_depth':[5,6,7]\n",
    "             }\n",
    "\n",
    "grid_search3 = GridSearchCV(model3, parameters3, cv=13, n_jobs=-1)\n",
    "grid_search3.fit(x_train,y_train)\n",
    "grid_search3.best_score_"
   ]
  },
  {
   "cell_type": "code",
   "execution_count": 90,
   "id": "2235301e",
   "metadata": {},
   "outputs": [
    {
     "data": {
      "text/plain": [
       "{'booster': 'gbtree',\n",
       " 'disable_default_eval_metric': True,\n",
       " 'learning_rate': 0.02,\n",
       " 'max_depth': 7}"
      ]
     },
     "execution_count": 90,
     "metadata": {},
     "output_type": "execute_result"
    }
   ],
   "source": [
    "best_parameters3 = grid_search3.best_params_\n",
    "best_parameters3"
   ]
  },
  {
   "cell_type": "code",
   "execution_count": 91,
   "id": "34633ec8",
   "metadata": {},
   "outputs": [],
   "source": [
    "model3=XGBClassifier(booster= 'gbtree',disable_default_eval_metric= True,learning_rate= 0.02,max_depth= 7)"
   ]
  },
  {
   "cell_type": "code",
   "execution_count": 92,
   "id": "e40c6a17",
   "metadata": {},
   "outputs": [
    {
     "data": {
      "text/plain": [
       "0.7328918322295805"
      ]
     },
     "execution_count": 92,
     "metadata": {},
     "output_type": "execute_result"
    }
   ],
   "source": [
    "model3.fit(x_train,y_train)\n",
    "\n",
    "x_test_pred3 = model3.predict(x_test)\n",
    "\n",
    "accuracy_score(y_test,x_test_pred3)"
   ]
  },
  {
   "cell_type": "markdown",
   "id": "1546cf5e",
   "metadata": {},
   "source": [
    "## AUC"
   ]
  },
  {
   "cell_type": "code",
   "execution_count": 93,
   "id": "2c4c5e5c",
   "metadata": {},
   "outputs": [
    {
     "data": {
      "image/png": "[encoded data removed]",
      "text/plain": [
       "<Figure size 432x288 with 1 Axes>"
      ]
     },
     "metadata": {
      "needs_background": "light"
     },
     "output_type": "display_data"
    },
    {
     "name": "stdout",
     "output_type": "stream",
     "text": [
      "AUC Score for Model 1: 0.6664088288171934\n",
      "AUC Score for Model 2: 0.7149824848081565\n",
      "AUC Score for Model 3: 0.713785012835739\n"
     ]
    }
   ],
   "source": [
    "from sklearn.metrics import roc_auc_score, auc\n",
    "from sklearn.metrics import roc_curve\n",
    "\n",
    "# Calculate and plot ROC curve for model1\n",
    "y_pred_prob1 = model1.predict_proba(x_test)[:, 1]\n",
    "fpr1, tpr1, thresholds1 = roc_curve(y_test, y_pred_prob1)\n",
    "roc_auc1 = auc(fpr1, tpr1)\n",
    "plt.plot(fpr1, tpr1, label='Model 1 (AUC = %0.2f)' % roc_auc1)\n",
    "\n",
    "# Calculate and plot ROC curve for model2\n",
    "y_pred_prob2 = model2.predict_proba(x_test)[:, 1]\n",
    "fpr2, tpr2, thresholds2 = roc_curve(y_test, y_pred_prob2)\n",
    "roc_auc2 = auc(fpr2, tpr2)\n",
    "plt.plot(fpr2, tpr2, label='Model 2 (AUC = %0.2f)' % roc_auc2)\n",
    "\n",
    "# Calculate and plot ROC curve for model3\n",
    "y_pred_prob3 = model3.predict_proba(x_test)[:, 1]\n",
    "fpr3, tpr3, thresholds3 = roc_curve(y_test, y_pred_prob3)\n",
    "roc_auc3 = auc(fpr3, tpr3)\n",
    "plt.plot(fpr3, tpr3, label='Model 3 (AUC = %0.2f)' % roc_auc3)\n",
    "\n",
    "# Plot the random guess line\n",
    "plt.plot([0, 1], [0, 1], 'k--')\n",
    "\n",
    "plt.xlabel('False Positive Rate')\n",
    "plt.ylabel('True Positive Rate')\n",
    "plt.title('Receiver Operating Characteristic (ROC) Curve')\n",
    "plt.legend(loc='lower right')\n",
    "plt.show()\n",
    "\n",
    "# Calculate AUC scores\n",
    "auc_score1 = roc_auc_score(y_test, model1.predict(x_test))\n",
    "print('AUC Score for Model 1:', auc_score1)\n",
    "\n",
    "auc_score2 = roc_auc_score(y_test, model2.predict(x_test))\n",
    "print('AUC Score for Model 2:', auc_score2)\n",
    "\n",
    "auc_score3 = roc_auc_score(y_test, model3.predict(x_test))\n",
    "print('AUC Score for Model 3:', auc_score3)\n"
   ]
  },
  {
   "cell_type": "markdown",
   "id": "8f7ffd53",
   "metadata": {},
   "source": [
    "AUC score more model 2 is the highest thats why we are selecting model 2 as our final model"
   ]
  },
  {
   "cell_type": "code",
   "execution_count": null,
   "id": "eb5d6c52",
   "metadata": {},
   "outputs": [],
   "source": []
  },
  {
   "cell_type": "code",
   "execution_count": null,
   "id": "74fd903a",
   "metadata": {},
   "outputs": [],
   "source": []
  }
 ],
 "metadata": {
  "kernelspec": {
   "display_name": "Python 3 (ipykernel)",
   "language": "python",
   "name": "python3"
  },
  "language_info": {
   "codemirror_mode": {
    "name": "ipython",
    "version": 3
   },
   "file_extension": ".py",
   "mimetype": "text/x-python",
   "name": "python",
   "nbconvert_exporter": "python",
   "pygments_lexer": "ipython3",
   "version": "3.9.12"
  },
  "toc": {
   "base_numbering": 1,
   "nav_menu": {},
   "number_sections": true,
   "sideBar": true,
   "skip_h1_title": false,
   "title_cell": "Table of Contents",
   "title_sidebar": "Contents",
   "toc_cell": false,
   "toc_position": {},
   "toc_section_display": true,
   "toc_window_display": true
  }
 },
 "nbformat": 4,
 "nbformat_minor": 5
}
